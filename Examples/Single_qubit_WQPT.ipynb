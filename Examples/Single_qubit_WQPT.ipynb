{
 "cells": [
  {
   "cell_type": "markdown",
   "metadata": {},
   "source": [
    "## Tutorial for performing Wigner process tomography\n",
    "\n",
    "Requirement: Install DROPStomo package using 'pip install DROPStomo'\n"
   ]
  },
  {
   "cell_type": "markdown",
   "metadata": {},
   "source": [
    "Importing required packages and modules"
   ]
  },
  {
   "cell_type": "code",
   "execution_count": 1,
   "metadata": {},
   "outputs": [
    {
     "name": "stdout",
     "output_type": "stream",
     "text": [
      "import complete\n"
     ]
    }
   ],
   "source": [
    "# This requires a installation of DROPStomo package. Use 'pip install DROPStomo' for installation.\n",
    "# import all the requried packages\n",
    "from DROPStomo import WQST1Q\n",
    "from DROPStomo import WQST2Q\n",
    "from DROPStomo import WQPT1Q\n",
    "\n",
    "from turtle import circle\n",
    "from IPython.display import display\n",
    "import matplotlib.pyplot as plt\n",
    "import numpy as np\n",
    "import pandas as pd\n",
    "from random import randint\n",
    "import time\n",
    "from fractions import Fraction\n",
    "from math import gcd\n",
    "from numpy import pi\n",
    "from qiskit import IBMQ\n",
    "\n",
    "from qiskit import QuantumCircuit, Aer, execute\n",
    "from qiskit.visualization import plot_histogram, plot_bloch_multivector, plot_state_qsphere, visualize_transition, plot_bloch_vector\n",
    "from qiskit.circuit.library import *\n",
    "from qiskit import (QuantumRegister, ClassicalRegister, QuantumCircuit,\n",
    "    execute, Aer, compiler)\n",
    "from qiskit.tools.monitor import job_monitor\n",
    "from qiskit.tools import job_monitor, backend_monitor, backend_overview\n",
    "from qiskit.quantum_info import Statevector\n",
    "from qiskit.visualization import exceptions\n",
    "from qiskit.visualization import latex as _latex\n",
    "from qiskit.visualization import text as _text\n",
    "from qiskit.visualization import utils\n",
    "from qiskit.visualization import matplotlib as _matplotlib\n",
    "import matplotlib as mpl\n",
    "\n",
    "from qiskit import QuantumCircuit\n",
    "from qiskit import Aer, transpile\n",
    "from qiskit.tools.visualization import plot_histogram, plot_state_city\n",
    "import qiskit.quantum_info as qi\n",
    "print('import complete')"
   ]
  },
  {
   "cell_type": "markdown",
   "metadata": {},
   "source": [
    "Provide a simulator or a quantum device. For performing single-qubit process tomography, two-qubits are required.\n",
    "\n",
    "For simulators and device check out: 'https://quantum-computing.ibm.com/services/resources?tab=systems' \n"
   ]
  },
  {
   "cell_type": "code",
   "execution_count": 2,
   "metadata": {},
   "outputs": [],
   "source": [
    "# simulator\n",
    "simulator = Aer.get_backend('qasm_simulator')"
   ]
  },
  {
   "cell_type": "markdown",
   "metadata": {},
   "source": [
    "Next, define a process to tomograph as a quantum gate and number of angles to perform scanning."
   ]
  },
  {
   "cell_type": "code",
   "execution_count": 3,
   "metadata": {},
   "outputs": [],
   "source": [
    "# Input: gate to tomograph. Here for example, U3 gate is used.\n",
    "Up = U3Gate(theta=pi, phi=0, lam=0) \n",
    "# you can also chose a standard quantum gate, such as:\n",
    "# Up = HGate()\n",
    "\n",
    "# resolution for scanning (which corresponds to number of sample points for tomography)\n",
    "# Input: just provide res_theta: resolution of theta. \n",
    "# resolution for phi (res_phi) = 2*res_theta-1\n",
    "res_theta = 12"
   ]
  },
  {
   "cell_type": "markdown",
   "metadata": {},
   "source": [
    "Now, this function creates quantum circuits for performing tomography"
   ]
  },
  {
   "cell_type": "code",
   "execution_count": 4,
   "metadata": {},
   "outputs": [
    {
     "data": {
      "text/html": [
       "<pre style=\"word-wrap: normal;white-space: pre;background: #fff0;line-height: 1.1;font-family: &quot;Courier New&quot;,Courier,monospace\">        ┌───┐ ░               ░               ░ ┌──────────────┐ ░ ┌─┐   \n",
       "   q_0: ┤ H ├─░───────■───────░───────────────░─┤ U3(-π/2,0,0) ├─░─┤M├───\n",
       "        └───┘ ░ ┌─────┴─────┐ ░ ┌───────────┐ ░ └──────────────┘ ░ └╥┘┌─┐\n",
       "   q_1: ──────░─┤ U3(π,0,0) ├─░─┤ U3(0,0,0) ├─░──────────────────░──╫─┤M├\n",
       "              ░ └───────────┘ ░ └───────────┘ ░                  ░  ║ └╥┘\n",
       "meas: 2/════════════════════════════════════════════════════════════╩══╩═\n",
       "                                                                    0  1 </pre>"
      ],
      "text/plain": [
       "        ┌───┐ ░               ░               ░ ┌──────────────┐ ░ ┌─┐   \n",
       "   q_0: ┤ H ├─░───────■───────░───────────────░─┤ U3(-π/2,0,0) ├─░─┤M├───\n",
       "        └───┘ ░ ┌─────┴─────┐ ░ ┌───────────┐ ░ └──────────────┘ ░ └╥┘┌─┐\n",
       "   q_1: ──────░─┤ U3(π,0,0) ├─░─┤ U3(0,0,0) ├─░──────────────────░──╫─┤M├\n",
       "              ░ └───────────┘ ░ └───────────┘ ░                  ░  ║ └╥┘\n",
       "meas: 2/════════════════════════════════════════════════════════════╩══╩═\n",
       "                                                                    0  1 "
      ]
     },
     "metadata": {},
     "output_type": "display_data"
    },
    {
     "data": {
      "text/html": [
       "<pre style=\"word-wrap: normal;white-space: pre;background: #fff0;line-height: 1.1;font-family: &quot;Courier New&quot;,Courier,monospace\">        ┌───┐ ░               ░               ░ ┌──────────────┐ ░ ┌─┐   \n",
       "   q_0: ┤ H ├─░───────■───────░───────────────░─┤ U3(-π/2,0,0) ├─░─┤M├───\n",
       "        ├───┤ ░ ┌─────┴─────┐ ░ ┌───────────┐ ░ └──────────────┘ ░ └╥┘┌─┐\n",
       "   q_1: ┤ X ├─░─┤ U3(π,0,0) ├─░─┤ U3(0,0,0) ├─░──────────────────░──╫─┤M├\n",
       "        └───┘ ░ └───────────┘ ░ └───────────┘ ░                  ░  ║ └╥┘\n",
       "meas: 2/════════════════════════════════════════════════════════════╩══╩═\n",
       "                                                                    0  1 </pre>"
      ],
      "text/plain": [
       "        ┌───┐ ░               ░               ░ ┌──────────────┐ ░ ┌─┐   \n",
       "   q_0: ┤ H ├─░───────■───────░───────────────░─┤ U3(-π/2,0,0) ├─░─┤M├───\n",
       "        ├───┤ ░ ┌─────┴─────┐ ░ ┌───────────┐ ░ └──────────────┘ ░ └╥┘┌─┐\n",
       "   q_1: ┤ X ├─░─┤ U3(π,0,0) ├─░─┤ U3(0,0,0) ├─░──────────────────░──╫─┤M├\n",
       "        └───┘ ░ └───────────┘ ░ └───────────┘ ░                  ░  ║ └╥┘\n",
       "meas: 2/════════════════════════════════════════════════════════════╩══╩═\n",
       "                                                                    0  1 "
      ]
     },
     "metadata": {},
     "output_type": "display_data"
    },
    {
     "data": {
      "text/html": [
       "<pre style=\"word-wrap: normal;white-space: pre;background: #fff0;line-height: 1.1;font-family: &quot;Courier New&quot;,Courier,monospace\">        ┌───┐ ░               ░               ░ ┌───────────────┐ ░ ┌─┐   \n",
       "   q_0: ┤ H ├─░───────■───────░───────────────░─┤ U3(π/2,0,π/2) ├─░─┤M├───\n",
       "        └───┘ ░ ┌─────┴─────┐ ░ ┌───────────┐ ░ └───────────────┘ ░ └╥┘┌─┐\n",
       "   q_1: ──────░─┤ U3(π,0,0) ├─░─┤ U3(0,0,0) ├─░───────────────────░──╫─┤M├\n",
       "              ░ └───────────┘ ░ └───────────┘ ░                   ░  ║ └╥┘\n",
       "meas: 2/═════════════════════════════════════════════════════════════╩══╩═\n",
       "                                                                     0  1 </pre>"
      ],
      "text/plain": [
       "        ┌───┐ ░               ░               ░ ┌───────────────┐ ░ ┌─┐   \n",
       "   q_0: ┤ H ├─░───────■───────░───────────────░─┤ U3(π/2,0,π/2) ├─░─┤M├───\n",
       "        └───┘ ░ ┌─────┴─────┐ ░ ┌───────────┐ ░ └───────────────┘ ░ └╥┘┌─┐\n",
       "   q_1: ──────░─┤ U3(π,0,0) ├─░─┤ U3(0,0,0) ├─░───────────────────░──╫─┤M├\n",
       "              ░ └───────────┘ ░ └───────────┘ ░                   ░  ║ └╥┘\n",
       "meas: 2/═════════════════════════════════════════════════════════════╩══╩═\n",
       "                                                                     0  1 "
      ]
     },
     "metadata": {},
     "output_type": "display_data"
    },
    {
     "data": {
      "text/html": [
       "<pre style=\"word-wrap: normal;white-space: pre;background: #fff0;line-height: 1.1;font-family: &quot;Courier New&quot;,Courier,monospace\">        ┌───┐ ░               ░               ░ ┌───────────────┐ ░ ┌─┐   \n",
       "   q_0: ┤ H ├─░───────■───────░───────────────░─┤ U3(π/2,0,π/2) ├─░─┤M├───\n",
       "        ├───┤ ░ ┌─────┴─────┐ ░ ┌───────────┐ ░ └───────────────┘ ░ └╥┘┌─┐\n",
       "   q_1: ┤ X ├─░─┤ U3(π,0,0) ├─░─┤ U3(0,0,0) ├─░───────────────────░──╫─┤M├\n",
       "        └───┘ ░ └───────────┘ ░ └───────────┘ ░                   ░  ║ └╥┘\n",
       "meas: 2/═════════════════════════════════════════════════════════════╩══╩═\n",
       "                                                                     0  1 </pre>"
      ],
      "text/plain": [
       "        ┌───┐ ░               ░               ░ ┌───────────────┐ ░ ┌─┐   \n",
       "   q_0: ┤ H ├─░───────■───────░───────────────░─┤ U3(π/2,0,π/2) ├─░─┤M├───\n",
       "        ├───┤ ░ ┌─────┴─────┐ ░ ┌───────────┐ ░ └───────────────┘ ░ └╥┘┌─┐\n",
       "   q_1: ┤ X ├─░─┤ U3(π,0,0) ├─░─┤ U3(0,0,0) ├─░───────────────────░──╫─┤M├\n",
       "        └───┘ ░ └───────────┘ ░ └───────────┘ ░                   ░  ║ └╥┘\n",
       "meas: 2/═════════════════════════════════════════════════════════════╩══╩═\n",
       "                                                                     0  1 "
      ]
     },
     "metadata": {},
     "output_type": "display_data"
    },
    {
     "name": "stdout",
     "output_type": "stream",
     "text": [
      "Total number of ciruits for WQPT for single qubit are:1104\n"
     ]
    }
   ],
   "source": [
    "# --Input: already provided above\n",
    "# res_theta: resolution of polar angles for sampling between [0,pi] for tomography\n",
    "# Up: gate for state preparation\n",
    "circ_u = WQPT1Q.WQPT_1Q_circuits(res_theta,Up)"
   ]
  },
  {
   "cell_type": "markdown",
   "metadata": {},
   "source": [
    "Lastly, run the circuits on a quantum device/simulator. \n",
    "#### Input\n",
    "- res_theta: resolution for scanning\n",
    "- circuits: circuits generated above \n",
    "- device: simulator or a device\n",
    "- shots: number of shots\n",
    "- inter: 0 or 1.\n",
    "    - inter = 0: non-interactive matplotlib droplet (boring) \n",
    "    - inter = 1: interactive plotly droplet [_preferred!_]\n",
    "- Ut: target process matrix (for calculating fidelity)\n",
    "- combine: True or False\n",
    "    - If True: gives a single droplet which is combination of f_{0} and f_{1} droplet\n",
    "    - If False: plots two droplets corresponding to f_{0} and f_{1}, respectively\n",
    "\n",
    "#### Returns\n",
    "- Tomographed process matrix\n",
    "- Tomographed process fidelity\n",
    "- Plot of expectation values \n",
    "- droplet plots:\n",
    "    - if combine = True: gives a single droplet which is combination of f_{0} and f_{1} droplet.\n",
    "    - if combine = False:\n",
    "        - f_{0}: droplet corresponds to identity term of the process matrix. \n",
    "        - f_{1}: droplet representing the corresponding Pauli component in the process matrix.\n",
    "\n",
    "#### Droplet insights\n",
    "- Direction of the droplet reflects the rotation axis of a process and color represents the phase given by arg[dropelt function].\n",
    "- Color description: red-> positive, green-> negative, yellow-> positive imaginary, blue-> negative imaginary. \n"
   ]
  },
  {
   "cell_type": "code",
   "execution_count": 5,
   "metadata": {},
   "outputs": [
    {
     "name": "stdout",
     "output_type": "stream",
     "text": [
      "Job 0 of 4\n",
      "Job Status: job has successfully run\n"
     ]
    },
    {
     "data": {
      "text/plain": [
       "None"
      ]
     },
     "metadata": {},
     "output_type": "display_data"
    },
    {
     "name": "stdout",
     "output_type": "stream",
     "text": [
      "Job 1 of 4\n",
      "Job Status: job has successfully run\n"
     ]
    },
    {
     "data": {
      "text/plain": [
       "None"
      ]
     },
     "metadata": {},
     "output_type": "display_data"
    },
    {
     "name": "stdout",
     "output_type": "stream",
     "text": [
      "Job 2 of 4\n",
      "Job Status: job has successfully run\n"
     ]
    },
    {
     "data": {
      "text/plain": [
       "None"
      ]
     },
     "metadata": {},
     "output_type": "display_data"
    },
    {
     "name": "stdout",
     "output_type": "stream",
     "text": [
      "Job 3 of 4\n",
      "Job Status: job has successfully run\n"
     ]
    },
    {
     "data": {
      "text/plain": [
       "None"
      ]
     },
     "metadata": {},
     "output_type": "display_data"
    },
    {
     "name": "stdout",
     "output_type": "stream",
     "text": [
      "Process matrix is: [[ 0.00421186-0.00393911j -0.99855457-0.00095436j]\n",
      " [ 0.99637296+0.00186232j -0.00527348-0.00194412j]]\n",
      "Process fidelity is: 0.9974647588357464\n"
     ]
    },
    {
     "data": {
      "application/vnd.plotly.v1+json": {
       "config": {
        "plotlyServerURL": "https://plot.ly"
       },
       "data": [
        {
         "facecolor": [
          "rgb(46, 65, 173)",
          "rgb(55, 12, 210)",
          "rgb(28, 6, 253)",
          "rgb(72, 56, 197)",
          "rgb(73, 38, 213)",
          "rgb(113, 50, 176)",
          "rgb(59, 0, 237)",
          "rgb(59, 0, 231)",
          "rgb(24, 0, 253)",
          "rgb(48, 15, 226)",
          "rgb(22, 20, 238)",
          "rgb(65, 35, 189)",
          "rgb(31, 13, 228)",
          "rgb(69, 6, 194)",
          "rgb(12, 9, 248)",
          "rgb(11, 26, 239)",
          "rgb(9, 16, 251)",
          "rgb(34, 86, 173)",
          "rgb(27, 58, 196)",
          "rgb(19, 96, 173)",
          "rgb(4, 51, 222)",
          "rgb(17, 59, 216)",
          "rgb(142, 142, 94)",
          "rgb(133, 81, 155)",
          "rgb(216, 154, 54)",
          "rgb(201, 140, 66)",
          "rgb(234, 231, 0)",
          "rgb(217, 236, 14)",
          "rgb(239, 244, 7)",
          "rgb(248, 216, 10)",
          "rgb(254, 236, 0)",
          "rgb(228, 226, 0)",
          "rgb(239, 243, 0)",
          "rgb(222, 229, 10)",
          "rgb(250, 238, 6)",
          "rgb(244, 238, 12)",
          "rgb(252, 252, 0)",
          "rgb(232, 250, 0)",
          "rgb(237, 251, 0)",
          "rgb(213, 255, 0)",
          "rgb(246, 230, 0)",
          "rgb(234, 217, 0)",
          "rgb(187, 179, 52)",
          "rgb(52, 169, 114)",
          "rgb(102, 159, 102)",
          "rgb(111, 215, 45)",
          "rgb(47, 48, 208)",
          "rgb(13, 25, 242)",
          "rgb(6, 19, 254)",
          "rgb(10, 20, 254)",
          "rgb(6, 21, 254)",
          "rgb(23, 12, 253)",
          "rgb(10, 18, 253)",
          "rgb(19, 11, 253)",
          "rgb(4, 12, 254)",
          "rgb(9, 4, 254)",
          "rgb(7, 3, 254)",
          "rgb(9, 5, 254)",
          "rgb(5, 4, 254)",
          "rgb(3, 6, 254)",
          "rgb(10, 0, 254)",
          "rgb(13, 4, 254)",
          "rgb(25, 3, 253)",
          "rgb(29, 5, 253)",
          "rgb(30, 8, 253)",
          "rgb(9, 13, 254)",
          "rgb(23, 32, 231)",
          "rgb(66, 78, 155)",
          "rgb(214, 235, 0)",
          "rgb(223, 240, 0)",
          "rgb(243, 250, 0)",
          "rgb(246, 233, 0)",
          "rgb(248, 244, 0)",
          "rgb(244, 243, 0)",
          "rgb(247, 254, 0)",
          "rgb(248, 253, 0)",
          "rgb(254, 253, 0)",
          "rgb(255, 251, 0)",
          "rgb(254, 252, 0)",
          "rgb(254, 248, 0)",
          "rgb(254, 249, 0)",
          "rgb(254, 247, 0)",
          "rgb(252, 252, 0)",
          "rgb(251, 253, 0)",
          "rgb(251, 250, 0)",
          "rgb(252, 248, 0)",
          "rgb(251, 249, 0)",
          "rgb(249, 238, 0)",
          "rgb(222, 202, 32)",
          "rgb(156, 131, 102)",
          "rgb(66, 78, 195)",
          "rgb(154, 158, 98)",
          "rgb(59, 91, 192)",
          "rgb(29, 39, 232)",
          "rgb(5, 13, 254)",
          "rgb(4, 11, 254)",
          "rgb(0, 13, 254)",
          "rgb(0, 20, 254)",
          "rgb(0, 16, 254)",
          "rgb(0, 18, 254)",
          "rgb(3, 10, 254)",
          "rgb(4, 8, 254)",
          "rgb(11, 2, 254)",
          "rgb(12, 2, 254)",
          "rgb(10, 5, 254)",
          "rgb(4, 6, 254)",
          "rgb(6, 6, 254)",
          "rgb(13, 0, 254)",
          "rgb(20, 0, 254)",
          "rgb(29, 0, 254)",
          "rgb(25, 4, 253)",
          "rgb(20, 12, 253)",
          "rgb(12, 32, 242)",
          "rgb(50, 62, 203)",
          "rgb(253, 243, 0)",
          "rgb(251, 245, 0)",
          "rgb(253, 252, 0)",
          "rgb(248, 253, 0)",
          "rgb(251, 253, 0)",
          "rgb(250, 254, 0)",
          "rgb(254, 253, 0)",
          "rgb(254, 253, 0)",
          "rgb(255, 253, 0)",
          "rgb(255, 254, 0)",
          "rgb(254, 254, 0)",
          "rgb(253, 254, 0)",
          "rgb(253, 254, 0)",
          "rgb(254, 253, 0)",
          "rgb(252, 253, 0)",
          "rgb(250, 252, 0)",
          "rgb(250, 254, 0)",
          "rgb(252, 251, 0)",
          "rgb(250, 250, 0)",
          "rgb(248, 250, 0)",
          "rgb(244, 252, 0)",
          "rgb(208, 202, 47)",
          "rgb(64, 23, 217)",
          "rgb(84, 54, 195)",
          "rgb(21, 32, 237)",
          "rgb(11, 42, 241)",
          "rgb(0, 18, 254)",
          "rgb(0, 12, 254)",
          "rgb(1, 1, 254)",
          "rgb(1, 5, 254)",
          "rgb(6, 3, 254)",
          "rgb(4, 8, 254)",
          "rgb(8, 4, 254)",
          "rgb(6, 4, 254)",
          "rgb(12, 0, 254)",
          "rgb(15, 0, 254)",
          "rgb(12, 3, 254)",
          "rgb(6, 8, 254)",
          "rgb(3, 9, 254)",
          "rgb(10, 5, 254)",
          "rgb(15, 0, 254)",
          "rgb(19, 0, 254)",
          "rgb(15, 3, 254)",
          "rgb(11, 9, 254)",
          "rgb(0, 16, 254)",
          "rgb(21, 35, 233)",
          "rgb(251, 246, 3)",
          "rgb(254, 251, 0)",
          "rgb(254, 252, 0)",
          "rgb(255, 253, 0)",
          "rgb(255, 253, 0)",
          "rgb(255, 253, 0)",
          "rgb(254, 254, 0)",
          "rgb(254, 253, 0)",
          "rgb(254, 253, 0)",
          "rgb(254, 253, 0)",
          "rgb(253, 254, 0)",
          "rgb(253, 254, 0)",
          "rgb(253, 253, 0)",
          "rgb(253, 253, 0)",
          "rgb(254, 252, 0)",
          "rgb(252, 254, 0)",
          "rgb(253, 254, 0)",
          "rgb(252, 254, 0)",
          "rgb(255, 253, 0)",
          "rgb(250, 253, 0)",
          "rgb(246, 248, 0)",
          "rgb(241, 241, 0)",
          "rgb(236, 212, 0)",
          "rgb(164, 152, 89)",
          "rgb(44, 39, 215)",
          "rgb(6, 10, 254)",
          "rgb(1, 18, 254)",
          "rgb(0, 17, 254)",
          "rgb(0, 10, 254)",
          "rgb(1, 1, 254)",
          "rgb(1, 1, 254)",
          "rgb(5, 0, 254)",
          "rgb(3, 2, 254)",
          "rgb(7, 1, 254)",
          "rgb(5, 1, 254)",
          "rgb(11, 0, 254)",
          "rgb(8, 3, 254)",
          "rgb(5, 7, 254)",
          "rgb(0, 11, 254)",
          "rgb(3, 7, 254)",
          "rgb(10, 4, 254)",
          "rgb(16, 0, 254)",
          "rgb(14, 1, 254)",
          "rgb(7, 5, 254)",
          "rgb(13, 16, 241)",
          "rgb(28, 24, 227)",
          "rgb(252, 239, 2)",
          "rgb(253, 250, 1)",
          "rgb(254, 253, 0)",
          "rgb(254, 253, 0)",
          "rgb(254, 254, 0)",
          "rgb(254, 254, 0)",
          "rgb(254, 253, 0)",
          "rgb(254, 253, 0)",
          "rgb(254, 253, 0)",
          "rgb(254, 254, 0)",
          "rgb(254, 253, 0)",
          "rgb(253, 254, 0)",
          "rgb(253, 254, 0)",
          "rgb(253, 253, 0)",
          "rgb(254, 252, 0)",
          "rgb(255, 252, 0)",
          "rgb(254, 254, 0)",
          "rgb(254, 254, 0)",
          "rgb(254, 254, 0)",
          "rgb(254, 253, 0)",
          "rgb(240, 242, 13)",
          "rgb(225, 218, 29)",
          "rgb(127, 161, 79)",
          "rgb(202, 233, 0)",
          "rgb(74, 66, 187)",
          "rgb(39, 23, 231)",
          "rgb(10, 1, 254)",
          "rgb(1, 12, 254)",
          "rgb(1, 9, 254)",
          "rgb(1, 8, 254)",
          "rgb(1, 4, 254)",
          "rgb(0, 4, 254)",
          "rgb(2, 3, 254)",
          "rgb(2, 1, 254)",
          "rgb(7, 1, 254)",
          "rgb(8, 1, 254)",
          "rgb(13, 0, 254)",
          "rgb(7, 3, 254)",
          "rgb(4, 5, 254)",
          "rgb(0, 9, 254)",
          "rgb(3, 6, 254)",
          "rgb(9, 4, 254)",
          "rgb(13, 4, 254)",
          "rgb(10, 8, 254)",
          "rgb(5, 28, 241)",
          "rgb(33, 37, 209)",
          "rgb(245, 238, 0)",
          "rgb(254, 245, 0)",
          "rgb(253, 253, 0)",
          "rgb(253, 255, 0)",
          "rgb(253, 254, 0)",
          "rgb(254, 254, 0)",
          "rgb(254, 254, 0)",
          "rgb(254, 253, 0)",
          "rgb(253, 253, 0)",
          "rgb(253, 253, 0)",
          "rgb(253, 254, 0)",
          "rgb(254, 253, 0)",
          "rgb(254, 254, 0)",
          "rgb(254, 254, 0)",
          "rgb(254, 254, 0)",
          "rgb(254, 254, 0)",
          "rgb(255, 254, 0)",
          "rgb(254, 254, 0)",
          "rgb(252, 254, 0)",
          "rgb(251, 255, 0)",
          "rgb(250, 254, 0)",
          "rgb(232, 236, 20)",
          "rgb(116, 146, 122)",
          "rgb(96, 178, 91)",
          "rgb(26, 71, 209)",
          "rgb(27, 33, 234)",
          "rgb(14, 7, 254)",
          "rgb(11, 1, 254)",
          "rgb(3, 1, 254)",
          "rgb(1, 0, 254)",
          "rgb(5, 0, 254)",
          "rgb(4, 3, 254)",
          "rgb(3, 7, 254)",
          "rgb(2, 6, 254)",
          "rgb(2, 3, 254)",
          "rgb(8, 0, 254)",
          "rgb(9, 0, 254)",
          "rgb(13, 0, 254)",
          "rgb(8, 3, 254)",
          "rgb(5, 5, 254)",
          "rgb(0, 11, 254)",
          "rgb(3, 7, 254)",
          "rgb(9, 7, 254)",
          "rgb(11, 6, 254)",
          "rgb(19, 24, 241)",
          "rgb(27, 64, 210)",
          "rgb(232, 255, 0)",
          "rgb(246, 252, 0)",
          "rgb(253, 253, 0)",
          "rgb(253, 253, 0)",
          "rgb(251, 255, 0)",
          "rgb(252, 254, 0)",
          "rgb(253, 253, 0)",
          "rgb(254, 253, 0)",
          "rgb(255, 252, 0)",
          "rgb(253, 254, 0)",
          "rgb(253, 253, 0)",
          "rgb(253, 254, 0)",
          "rgb(254, 253, 0)",
          "rgb(254, 254, 0)",
          "rgb(254, 254, 0)",
          "rgb(254, 254, 0)",
          "rgb(254, 254, 0)",
          "rgb(255, 254, 0)",
          "rgb(255, 253, 0)",
          "rgb(252, 254, 0)",
          "rgb(246, 243, 6)",
          "rgb(241, 235, 10)",
          "rgb(170, 68, 140)",
          "rgb(171, 124, 111)",
          "rgb(46, 13, 237)",
          "rgb(15, 24, 247)",
          "rgb(11, 9, 254)",
          "rgb(9, 6, 254)",
          "rgb(13, 0, 254)",
          "rgb(8, 0, 254)",
          "rgb(4, 3, 254)",
          "rgb(4, 2, 254)",
          "rgb(8, 2, 254)",
          "rgb(7, 4, 254)",
          "rgb(4, 9, 254)",
          "rgb(0, 9, 254)",
          "rgb(2, 5, 254)",
          "rgb(5, 0, 254)",
          "rgb(11, 0, 254)",
          "rgb(8, 3, 254)",
          "rgb(6, 11, 254)",
          "rgb(0, 17, 254)",
          "rgb(4, 17, 254)",
          "rgb(10, 9, 254)",
          "rgb(20, 18, 237)",
          "rgb(33, 50, 205)",
          "rgb(204, 254, 2)",
          "rgb(243, 254, 0)",
          "rgb(250, 254, 0)",
          "rgb(253, 254, 0)",
          "rgb(252, 254, 0)",
          "rgb(251, 255, 0)",
          "rgb(251, 254, 0)",
          "rgb(253, 252, 0)",
          "rgb(253, 252, 0)",
          "rgb(253, 252, 0)",
          "rgb(253, 254, 0)",
          "rgb(254, 253, 0)",
          "rgb(254, 252, 0)",
          "rgb(254, 252, 0)",
          "rgb(254, 253, 0)",
          "rgb(254, 255, 0)",
          "rgb(254, 253, 0)",
          "rgb(254, 253, 0)",
          "rgb(255, 251, 0)",
          "rgb(255, 252, 0)",
          "rgb(254, 251, 0)",
          "rgb(247, 234, 11)",
          "rgb(183, 201, 31)",
          "rgb(122, 101, 118)",
          "rgb(33, 77, 207)",
          "rgb(23, 21, 251)",
          "rgb(7, 18, 254)",
          "rgb(10, 4, 254)",
          "rgb(4, 8, 254)",
          "rgb(9, 4, 254)",
          "rgb(13, 4, 254)",
          "rgb(11, 3, 254)",
          "rgb(6, 3, 254)",
          "rgb(5, 3, 254)",
          "rgb(5, 8, 254)",
          "rgb(5, 13, 254)",
          "rgb(0, 24, 254)",
          "rgb(3, 14, 254)",
          "rgb(3, 20, 254)",
          "rgb(10, 9, 254)",
          "rgb(15, 12, 254)",
          "rgb(14, 8, 254)",
          "rgb(19, 12, 253)",
          "rgb(17, 13, 253)",
          "rgb(48, 19, 233)",
          "rgb(40, 60, 195)",
          "rgb(200, 254, 2)",
          "rgb(221, 254, 1)",
          "rgb(245, 254, 0)",
          "rgb(249, 254, 0)",
          "rgb(250, 254, 0)",
          "rgb(251, 254, 0)",
          "rgb(249, 254, 0)",
          "rgb(252, 254, 0)",
          "rgb(253, 253, 0)",
          "rgb(253, 253, 0)",
          "rgb(252, 253, 0)",
          "rgb(252, 255, 0)",
          "rgb(249, 255, 0)",
          "rgb(250, 253, 0)",
          "rgb(249, 253, 0)",
          "rgb(254, 253, 0)",
          "rgb(254, 253, 0)",
          "rgb(254, 252, 0)",
          "rgb(255, 250, 0)",
          "rgb(255, 250, 0)",
          "rgb(249, 250, 0)",
          "rgb(246, 251, 0)",
          "rgb(196, 249, 13)",
          "rgb(170, 250, 11)",
          "rgb(33, 131, 159)",
          "rgb(14, 81, 215)",
          "rgb(0, 41, 252)",
          "rgb(0, 26, 254)",
          "rgb(6, 11, 254)",
          "rgb(4, 10, 254)",
          "rgb(4, 15, 254)",
          "rgb(9, 12, 254)",
          "rgb(21, 8, 254)",
          "rgb(17, 0, 254)",
          "rgb(21, 0, 254)",
          "rgb(9, 11, 254)",
          "rgb(10, 27, 253)",
          "rgb(0, 35, 253)",
          "rgb(0, 34, 253)",
          "rgb(0, 31, 254)",
          "rgb(0, 28, 254)",
          "rgb(9, 24, 253)",
          "rgb(15, 8, 254)",
          "rgb(32, 1, 253)",
          "rgb(54, 2, 237)",
          "rgb(91, 35, 198)",
          "rgb(219, 201, 29)",
          "rgb(239, 255, 0)",
          "rgb(246, 255, 0)",
          "rgb(246, 255, 0)",
          "rgb(249, 249, 0)",
          "rgb(249, 251, 0)",
          "rgb(251, 246, 0)",
          "rgb(250, 251, 0)",
          "rgb(250, 251, 0)",
          "rgb(251, 252, 0)",
          "rgb(252, 250, 0)",
          "rgb(253, 251, 0)",
          "rgb(250, 253, 0)",
          "rgb(244, 255, 0)",
          "rgb(241, 255, 0)",
          "rgb(246, 254, 0)",
          "rgb(249, 254, 0)",
          "rgb(251, 253, 0)",
          "rgb(249, 252, 0)",
          "rgb(253, 250, 0)",
          "rgb(245, 251, 0)",
          "rgb(236, 250, 0)",
          "rgb(180, 255, 0)",
          "rgb(151, 246, 21)",
          "rgb(59, 221, 85)",
          "rgb(0, 122, 192)",
          "rgb(0, 95, 209)",
          "rgb(0, 32, 253)",
          "rgb(0, 43, 249)",
          "rgb(9, 21, 252)",
          "rgb(22, 34, 233)",
          "rgb(13, 25, 244)",
          "rgb(9, 56, 223)",
          "rgb(20, 22, 246)",
          "rgb(59, 34, 217)",
          "rgb(52, 11, 241)",
          "rgb(58, 31, 220)",
          "rgb(22, 33, 244)",
          "rgb(1, 68, 236)",
          "rgb(0, 35, 252)",
          "rgb(9, 14, 244)",
          "rgb(6, 18, 248)",
          "rgb(42, 76, 185)",
          "rgb(21, 57, 213)",
          "rgb(40, 100, 172)",
          "rgb(47, 23, 218)",
          "rgb(179, 69, 88)",
          "rgb(233, 165, 26)",
          "rgb(243, 178, 5)",
          "rgb(243, 232, 3)",
          "rgb(223, 163, 42)",
          "rgb(240, 213, 19)",
          "rgb(199, 183, 59)",
          "rgb(230, 229, 20)",
          "rgb(212, 194, 39)",
          "rgb(247, 230, 5)",
          "rgb(223, 204, 30)",
          "rgb(238, 238, 13)",
          "rgb(194, 196, 62)",
          "rgb(223, 231, 25)",
          "rgb(199, 210, 44)",
          "rgb(245, 248, 0)",
          "rgb(251, 208, 0)",
          "rgb(247, 229, 0)",
          "rgb(209, 203, 12)",
          "rgb(207, 250, 11)",
          "rgb(177, 227, 23)",
          "rgb(234, 233, 0)"
         ],
         "i": [
          0,
          0,
          1,
          1,
          2,
          2,
          3,
          3,
          4,
          4,
          5,
          5,
          6,
          6,
          7,
          7,
          8,
          8,
          9,
          9,
          10,
          10,
          11,
          11,
          12,
          12,
          13,
          13,
          14,
          14,
          15,
          15,
          16,
          16,
          17,
          17,
          18,
          18,
          19,
          19,
          20,
          20,
          21,
          21,
          22,
          22,
          23,
          23,
          24,
          24,
          25,
          25,
          26,
          26,
          27,
          27,
          28,
          28,
          29,
          29,
          30,
          30,
          31,
          31,
          32,
          32,
          33,
          33,
          34,
          34,
          35,
          35,
          36,
          36,
          37,
          37,
          38,
          38,
          39,
          39,
          40,
          40,
          41,
          41,
          42,
          42,
          43,
          43,
          44,
          44,
          45,
          45,
          46,
          46,
          47,
          47,
          48,
          48,
          49,
          49,
          50,
          50,
          51,
          51,
          52,
          52,
          53,
          53,
          54,
          54,
          55,
          55,
          56,
          56,
          57,
          57,
          58,
          58,
          59,
          59,
          60,
          60,
          61,
          61,
          62,
          62,
          63,
          63,
          64,
          64,
          65,
          65,
          66,
          66,
          67,
          67,
          68,
          68,
          69,
          69,
          70,
          70,
          71,
          71,
          72,
          72,
          73,
          73,
          74,
          74,
          75,
          75,
          76,
          76,
          77,
          77,
          78,
          78,
          79,
          79,
          80,
          80,
          81,
          81,
          82,
          82,
          83,
          83,
          84,
          84,
          85,
          85,
          86,
          86,
          87,
          87,
          88,
          88,
          89,
          89,
          90,
          90,
          91,
          91,
          92,
          92,
          93,
          93,
          94,
          94,
          95,
          95,
          96,
          96,
          97,
          97,
          98,
          98,
          99,
          99,
          100,
          100,
          101,
          101,
          102,
          102,
          103,
          103,
          104,
          104,
          105,
          105,
          106,
          106,
          107,
          107,
          108,
          108,
          109,
          109,
          110,
          110,
          111,
          111,
          112,
          112,
          113,
          113,
          114,
          114,
          115,
          115,
          116,
          116,
          117,
          117,
          118,
          118,
          119,
          119,
          120,
          120,
          121,
          121,
          122,
          122,
          123,
          123,
          124,
          124,
          125,
          125,
          126,
          126,
          127,
          127,
          128,
          128,
          129,
          129,
          130,
          130,
          131,
          131,
          132,
          132,
          133,
          133,
          134,
          134,
          135,
          135,
          136,
          136,
          137,
          137,
          138,
          138,
          139,
          139,
          140,
          140,
          141,
          141,
          142,
          142,
          143,
          143,
          144,
          144,
          145,
          145,
          146,
          146,
          147,
          147,
          148,
          148,
          149,
          149,
          150,
          150,
          151,
          151,
          152,
          152,
          153,
          153,
          154,
          154,
          155,
          155,
          156,
          156,
          157,
          157,
          158,
          158,
          159,
          159,
          160,
          160,
          161,
          161,
          162,
          162,
          163,
          163,
          164,
          164,
          165,
          165,
          166,
          166,
          167,
          167,
          168,
          168,
          169,
          169,
          170,
          170,
          171,
          171,
          172,
          172,
          173,
          173,
          174,
          174,
          175,
          175,
          176,
          176,
          177,
          177,
          178,
          178,
          179,
          179,
          180,
          180,
          181,
          181,
          182,
          182,
          183,
          183,
          184,
          184,
          185,
          185,
          186,
          186,
          187,
          187,
          188,
          188,
          189,
          189,
          190,
          190,
          191,
          191,
          192,
          192,
          193,
          193,
          194,
          194,
          195,
          195,
          196,
          196,
          197,
          197,
          198,
          198,
          199,
          199,
          200,
          200,
          201,
          201,
          202,
          202,
          203,
          203,
          204,
          204,
          205,
          205,
          206,
          206,
          207,
          207,
          208,
          208,
          209,
          209,
          210,
          210,
          211,
          211,
          212,
          212,
          213,
          213,
          214,
          214,
          215,
          215,
          216,
          216,
          217,
          217,
          218,
          218,
          219,
          219,
          220,
          220,
          221,
          221,
          222,
          222,
          223,
          223,
          224,
          224,
          225,
          225,
          226,
          226,
          227,
          227,
          228,
          228,
          229,
          229,
          230,
          230,
          231,
          231,
          232,
          232,
          233,
          233,
          234,
          234,
          235,
          235,
          236,
          236,
          237,
          237,
          238,
          238,
          239,
          239,
          240,
          240,
          241,
          241,
          242,
          242,
          243,
          243,
          244,
          244,
          245,
          245,
          246,
          246,
          247,
          247,
          248,
          248,
          249,
          249,
          250,
          250,
          251,
          251
         ],
         "j": [
          24,
          1,
          25,
          2,
          26,
          3,
          27,
          4,
          28,
          5,
          29,
          6,
          30,
          7,
          31,
          8,
          32,
          9,
          33,
          10,
          34,
          11,
          35,
          12,
          36,
          13,
          37,
          14,
          38,
          15,
          39,
          16,
          40,
          17,
          41,
          18,
          42,
          19,
          43,
          20,
          44,
          21,
          45,
          22,
          46,
          23,
          47,
          24,
          48,
          25,
          49,
          26,
          50,
          27,
          51,
          28,
          52,
          29,
          53,
          30,
          54,
          31,
          55,
          32,
          56,
          33,
          57,
          34,
          58,
          35,
          59,
          36,
          60,
          37,
          61,
          38,
          62,
          39,
          63,
          40,
          64,
          41,
          65,
          42,
          66,
          43,
          67,
          44,
          68,
          45,
          69,
          46,
          70,
          47,
          71,
          48,
          72,
          49,
          73,
          50,
          74,
          51,
          75,
          52,
          76,
          53,
          77,
          54,
          78,
          55,
          79,
          56,
          80,
          57,
          81,
          58,
          82,
          59,
          83,
          60,
          84,
          61,
          85,
          62,
          86,
          63,
          87,
          64,
          88,
          65,
          89,
          66,
          90,
          67,
          91,
          68,
          92,
          69,
          93,
          70,
          94,
          71,
          95,
          72,
          96,
          73,
          97,
          74,
          98,
          75,
          99,
          76,
          100,
          77,
          101,
          78,
          102,
          79,
          103,
          80,
          104,
          81,
          105,
          82,
          106,
          83,
          107,
          84,
          108,
          85,
          109,
          86,
          110,
          87,
          111,
          88,
          112,
          89,
          113,
          90,
          114,
          91,
          115,
          92,
          116,
          93,
          117,
          94,
          118,
          95,
          119,
          96,
          120,
          97,
          121,
          98,
          122,
          99,
          123,
          100,
          124,
          101,
          125,
          102,
          126,
          103,
          127,
          104,
          128,
          105,
          129,
          106,
          130,
          107,
          131,
          108,
          132,
          109,
          133,
          110,
          134,
          111,
          135,
          112,
          136,
          113,
          137,
          114,
          138,
          115,
          139,
          116,
          140,
          117,
          141,
          118,
          142,
          119,
          143,
          120,
          144,
          121,
          145,
          122,
          146,
          123,
          147,
          124,
          148,
          125,
          149,
          126,
          150,
          127,
          151,
          128,
          152,
          129,
          153,
          130,
          154,
          131,
          155,
          132,
          156,
          133,
          157,
          134,
          158,
          135,
          159,
          136,
          160,
          137,
          161,
          138,
          162,
          139,
          163,
          140,
          164,
          141,
          165,
          142,
          166,
          143,
          167,
          144,
          168,
          145,
          169,
          146,
          170,
          147,
          171,
          148,
          172,
          149,
          173,
          150,
          174,
          151,
          175,
          152,
          176,
          153,
          177,
          154,
          178,
          155,
          179,
          156,
          180,
          157,
          181,
          158,
          182,
          159,
          183,
          160,
          184,
          161,
          185,
          162,
          186,
          163,
          187,
          164,
          188,
          165,
          189,
          166,
          190,
          167,
          191,
          168,
          192,
          169,
          193,
          170,
          194,
          171,
          195,
          172,
          196,
          173,
          197,
          174,
          198,
          175,
          199,
          176,
          200,
          177,
          201,
          178,
          202,
          179,
          203,
          180,
          204,
          181,
          205,
          182,
          206,
          183,
          207,
          184,
          208,
          185,
          209,
          186,
          210,
          187,
          211,
          188,
          212,
          189,
          213,
          190,
          214,
          191,
          215,
          192,
          216,
          193,
          217,
          194,
          218,
          195,
          219,
          196,
          220,
          197,
          221,
          198,
          222,
          199,
          223,
          200,
          224,
          201,
          225,
          202,
          226,
          203,
          227,
          204,
          228,
          205,
          229,
          206,
          230,
          207,
          231,
          208,
          232,
          209,
          233,
          210,
          234,
          211,
          235,
          212,
          236,
          213,
          237,
          214,
          238,
          215,
          239,
          216,
          240,
          217,
          241,
          218,
          242,
          219,
          243,
          220,
          244,
          221,
          245,
          222,
          246,
          223,
          247,
          224,
          248,
          225,
          249,
          226,
          250,
          227,
          251,
          228,
          252,
          229,
          253,
          230,
          254,
          231,
          255,
          232,
          256,
          233,
          257,
          234,
          258,
          235,
          259,
          236,
          260,
          237,
          261,
          238,
          262,
          239,
          263,
          240,
          264,
          241,
          265,
          242,
          266,
          243,
          267,
          244,
          268,
          245,
          269,
          246,
          270,
          247,
          271,
          248,
          272,
          249,
          273,
          250,
          274,
          251,
          275,
          252
         ],
         "k": [
          23,
          24,
          24,
          25,
          25,
          26,
          26,
          27,
          27,
          28,
          28,
          29,
          29,
          30,
          30,
          31,
          31,
          32,
          32,
          33,
          33,
          34,
          34,
          35,
          35,
          36,
          36,
          37,
          37,
          38,
          38,
          39,
          39,
          40,
          40,
          41,
          41,
          42,
          42,
          43,
          43,
          44,
          44,
          45,
          45,
          46,
          46,
          47,
          47,
          48,
          48,
          49,
          49,
          50,
          50,
          51,
          51,
          52,
          52,
          53,
          53,
          54,
          54,
          55,
          55,
          56,
          56,
          57,
          57,
          58,
          58,
          59,
          59,
          60,
          60,
          61,
          61,
          62,
          62,
          63,
          63,
          64,
          64,
          65,
          65,
          66,
          66,
          67,
          67,
          68,
          68,
          69,
          69,
          70,
          70,
          71,
          71,
          72,
          72,
          73,
          73,
          74,
          74,
          75,
          75,
          76,
          76,
          77,
          77,
          78,
          78,
          79,
          79,
          80,
          80,
          81,
          81,
          82,
          82,
          83,
          83,
          84,
          84,
          85,
          85,
          86,
          86,
          87,
          87,
          88,
          88,
          89,
          89,
          90,
          90,
          91,
          91,
          92,
          92,
          93,
          93,
          94,
          94,
          95,
          95,
          96,
          96,
          97,
          97,
          98,
          98,
          99,
          99,
          100,
          100,
          101,
          101,
          102,
          102,
          103,
          103,
          104,
          104,
          105,
          105,
          106,
          106,
          107,
          107,
          108,
          108,
          109,
          109,
          110,
          110,
          111,
          111,
          112,
          112,
          113,
          113,
          114,
          114,
          115,
          115,
          116,
          116,
          117,
          117,
          118,
          118,
          119,
          119,
          120,
          120,
          121,
          121,
          122,
          122,
          123,
          123,
          124,
          124,
          125,
          125,
          126,
          126,
          127,
          127,
          128,
          128,
          129,
          129,
          130,
          130,
          131,
          131,
          132,
          132,
          133,
          133,
          134,
          134,
          135,
          135,
          136,
          136,
          137,
          137,
          138,
          138,
          139,
          139,
          140,
          140,
          141,
          141,
          142,
          142,
          143,
          143,
          144,
          144,
          145,
          145,
          146,
          146,
          147,
          147,
          148,
          148,
          149,
          149,
          150,
          150,
          151,
          151,
          152,
          152,
          153,
          153,
          154,
          154,
          155,
          155,
          156,
          156,
          157,
          157,
          158,
          158,
          159,
          159,
          160,
          160,
          161,
          161,
          162,
          162,
          163,
          163,
          164,
          164,
          165,
          165,
          166,
          166,
          167,
          167,
          168,
          168,
          169,
          169,
          170,
          170,
          171,
          171,
          172,
          172,
          173,
          173,
          174,
          174,
          175,
          175,
          176,
          176,
          177,
          177,
          178,
          178,
          179,
          179,
          180,
          180,
          181,
          181,
          182,
          182,
          183,
          183,
          184,
          184,
          185,
          185,
          186,
          186,
          187,
          187,
          188,
          188,
          189,
          189,
          190,
          190,
          191,
          191,
          192,
          192,
          193,
          193,
          194,
          194,
          195,
          195,
          196,
          196,
          197,
          197,
          198,
          198,
          199,
          199,
          200,
          200,
          201,
          201,
          202,
          202,
          203,
          203,
          204,
          204,
          205,
          205,
          206,
          206,
          207,
          207,
          208,
          208,
          209,
          209,
          210,
          210,
          211,
          211,
          212,
          212,
          213,
          213,
          214,
          214,
          215,
          215,
          216,
          216,
          217,
          217,
          218,
          218,
          219,
          219,
          220,
          220,
          221,
          221,
          222,
          222,
          223,
          223,
          224,
          224,
          225,
          225,
          226,
          226,
          227,
          227,
          228,
          228,
          229,
          229,
          230,
          230,
          231,
          231,
          232,
          232,
          233,
          233,
          234,
          234,
          235,
          235,
          236,
          236,
          237,
          237,
          238,
          238,
          239,
          239,
          240,
          240,
          241,
          241,
          242,
          242,
          243,
          243,
          244,
          244,
          245,
          245,
          246,
          246,
          247,
          247,
          248,
          248,
          249,
          249,
          250,
          250,
          251,
          251,
          252,
          252,
          253,
          253,
          254,
          254,
          255,
          255,
          256,
          256,
          257,
          257,
          258,
          258,
          259,
          259,
          260,
          260,
          261,
          261,
          262,
          262,
          263,
          263,
          264,
          264,
          265,
          265,
          266,
          266,
          267,
          267,
          268,
          268,
          269,
          269,
          270,
          270,
          271,
          271,
          272,
          272,
          273,
          273,
          274,
          274,
          275
         ],
         "lighting": {
          "ambient": 1,
          "diffuse": 0,
          "fresnel": 0,
          "roughness": 0,
          "specular": 0
         },
         "scene": "scene",
         "type": "mesh3d",
         "x": [
          0,
          0,
          0,
          0,
          0,
          0,
          0,
          0,
          0,
          0,
          0,
          0,
          0,
          0,
          0,
          0,
          0,
          0,
          0,
          0,
          0,
          0,
          0,
          0.0014847459724949773,
          0.003233040116499721,
          0.006715334278619055,
          0.005799374515127695,
          0.004925179177151541,
          0.0016476771166165464,
          -0.001689138522569259,
          -0.0040616997031665955,
          -0.0063941172376456015,
          -0.004532782691115081,
          -0.0028969832436597557,
          -0.000754100611933115,
          -0.002828133996357292,
          -0.005660277395614333,
          -0.00771948651863125,
          -0.006090711800410798,
          -0.001886073147101303,
          0.0020947534359316866,
          0.005619704417575535,
          0.0070819793520520554,
          0.004598945800994164,
          0.005554664501783781,
          0.0018748871935950332,
          0.003311069087185388,
          0.01906054323519664,
          0.025108682445637236,
          0.026295065805244044,
          0.0194030759721052,
          0.006740619890211873,
          -0.007379285786573566,
          -0.01921512236626684,
          -0.02778087635104664,
          -0.022005510498508057,
          -0.016818947445077604,
          -0.002287467542172755,
          -0.006675770948326454,
          -0.02491638464671539,
          -0.025208630446972007,
          -0.018133927274363977,
          -0.006612235968490343,
          0.007000071415206256,
          0.0196138939495138,
          0.0238631357918726,
          0.021833933608729608,
          0.015730363584266195,
          0.003992358576246924,
          0.0030406279119632377,
          0.024025482379148394,
          0.04501824376915313,
          0.05248516819494861,
          0.0373609299838784,
          0.013917593947721851,
          -0.013590285216839594,
          -0.03840633311395978,
          -0.05181523196731344,
          -0.04436061794994059,
          -0.031458906336699476,
          -0.0030094852608883527,
          -0.02446699322044257,
          -0.04573296208670473,
          -0.052413547313553514,
          -0.036730747463881296,
          -0.014462064579290827,
          0.013261571188947137,
          0.03564103252328758,
          0.050845501632577915,
          0.044186829336159465,
          0.030417922763620688,
          0.0016717328273298806,
          0.00556060023351334,
          0.04387387778179575,
          0.06474203867580072,
          0.07395914462454009,
          0.05345988305594968,
          0.020080138734725306,
          -0.02040405361432779,
          -0.05484821960490118,
          -0.06885860063705976,
          -0.06575655188342071,
          -0.033191791167649136,
          -0.0005944245158817124,
          -0.03702656009113211,
          -0.06791716565785413,
          -0.06810927029878547,
          -0.053273078748863945,
          -0.020203150355431562,
          0.02008843020311981,
          0.0541226290774408,
          0.0724317319085028,
          0.06641588796181574,
          0.03095103451066568,
          0.0036539954519700848,
          0.008822252482855604,
          0.04102546542170725,
          0.08367857739838602,
          0.08206183908709822,
          0.06468474653772616,
          0.022823917310990902,
          -0.024134693090739803,
          -0.0652764629125137,
          -0.08313259740095576,
          -0.07998372503832442,
          -0.04046655243519851,
          -0.004605163107062555,
          -0.050990541238749534,
          -0.07556313693985926,
          -0.08233208821872716,
          -0.06369040984601466,
          -0.02402962672301496,
          0.023900897395084122,
          0.06328869249543875,
          0.07826034420845604,
          0.08130102496080799,
          0.0509889737347471,
          0.005125583774439237,
          0.007132461469806812,
          0.04302637544911834,
          0.07555946453484681,
          0.08577056976922855,
          0.06437369087348145,
          0.024041230319722055,
          -0.023830046183593686,
          -0.06531268019028759,
          -0.08490135415390904,
          -0.08088822463338848,
          -0.04308942642455749,
          -0.004610405758149415,
          -0.053021373330706424,
          -0.07575474157037144,
          -0.08299175384579462,
          -0.06450267602232444,
          -0.023950557483904674,
          0.02363615310911352,
          0.06313135686304981,
          0.08274272281407488,
          0.07651474435882699,
          0.04331940058840571,
          0.0036080985138085718,
          0.0017222180139635581,
          0.03702124395784087,
          0.0639298285287767,
          0.07198235889775222,
          0.05438928061262301,
          0.019985947615441355,
          -0.020051058152775227,
          -0.05392054834026839,
          -0.07127381996681484,
          -0.07042092580419144,
          -0.03910529549268778,
          -0.004310913401495021,
          -0.033865106879780386,
          -0.06349711733641486,
          -0.06897705892997873,
          -0.052036441674477726,
          -0.01983632461702427,
          0.019906283877228613,
          0.05543948133180167,
          0.06765439427075524,
          0.06521055166968434,
          0.03374633908295014,
          0.0034013975951850666,
          0.003956391568583461,
          0.021574604239758263,
          0.04777158361511737,
          0.04711324323380269,
          0.035699571833437554,
          0.014047137192839943,
          -0.013482901545443175,
          -0.03624348350664531,
          -0.04632575753872633,
          -0.046243994876153695,
          -0.028137025774159306,
          -0.0049282741375378195,
          -0.024981598161662164,
          -0.044661096849163445,
          -0.04756230662480088,
          -0.03354506653188303,
          -0.014294583929359929,
          0.013522402850336126,
          0.03640611656106395,
          0.049156228061860936,
          0.04729616037577359,
          0.027867834525043635,
          0.0060465173752429794,
          0.0032134197362883683,
          0.012861728782971366,
          0.023887380936940036,
          0.022292126596123098,
          0.018105482875115556,
          0.0075500164877583854,
          -0.0075344990626843526,
          -0.01931802483519673,
          -0.022911209072197757,
          -0.02063384408714869,
          -0.015054130618644097,
          -0.0030915414072224226,
          -0.015059888393476589,
          -0.01875005345805002,
          -0.024282568134279307,
          -0.01936679593175865,
          -0.006493821131655622,
          0.007306131407206514,
          0.01936277174021258,
          0.024954312079802154,
          0.02196207220607436,
          0.013086213031251752,
          0.0020521683796766773,
          0.0004060519956129204,
          0.0029483454816798312,
          0.006258508219137753,
          0.008028521352584417,
          0.005659373743004895,
          0.0018098179157839652,
          -0.001977597934325787,
          -0.004823845967271043,
          -0.007673070355594487,
          -0.006098854102276136,
          -0.0037486589189216933,
          -0.0018926089891436308,
          -0.005239960286952616,
          -0.005571824376279663,
          -0.006710931591350581,
          -0.005322945572752031,
          -0.0022675708149806823,
          0.0021011108554751185,
          0.0054583256847093725,
          0.0071530633445466936,
          0.006094975459364371,
          0.0027256960834662115,
          0.0007756511658498072,
          3.986466263864868e-19,
          8.366870950889213e-19,
          4.649635802231704e-19,
          7.136426103804428e-19,
          1.9928973257999566e-19,
          5.0916597411586104e-20,
          -8.182329254400953e-20,
          -1.360173913681758e-19,
          -2.8305083947349377e-19,
          -1.8931372564813108e-19,
          -9.056612624803047e-19,
          -4.4646644640006625e-19,
          -1.1015621965135007e-18,
          -4.2026202161923265e-19,
          -7.367441545301835e-19,
          -4.398564745120255e-19,
          -1.3702200639656156e-19,
          1.0654501038213497e-19,
          5.689569464036673e-19,
          4.784424905827355e-19,
          9.54629750698844e-19,
          6.869662111226598e-19,
          6.573834368666613e-19
         ],
         "y": [
          0,
          0,
          0,
          0,
          0,
          0,
          0,
          0,
          0,
          0,
          0,
          0,
          0,
          0,
          0,
          0,
          0,
          0,
          0,
          0,
          0,
          0,
          0,
          0,
          0.0009493062309368615,
          0.004315683289509311,
          0.006692834971068653,
          0.010784638065958719,
          0.011459846064623299,
          0.011748216477156943,
          0.0088938817565207,
          0.00737920466174361,
          0.0029130425535637172,
          0.0008506310299370278,
          9.235069006389496e-20,
          -0.0008304150669101583,
          -0.0036376394021093226,
          -0.008908762349425647,
          -0.013336798514096618,
          -0.013117926876829139,
          -0.014569330166102302,
          -0.012305436208774253,
          -0.00817303985941257,
          -0.0029555630024111017,
          -0.001630996657108012,
          -4.592149200797043e-19,
          0,
          0.005596680463650899,
          0.01613637039592255,
          0.030346123625715482,
          0.04248680996139448,
          0.04688204111287851,
          0.05132405999219579,
          0.04207524897259593,
          0.03206084040342841,
          0.014142082880059163,
          0.004938488553212839,
          2.8013398036753277e-19,
          -0.001960183211216929,
          -0.016012788104560114,
          -0.02909231038418722,
          -0.039707761958325094,
          -0.04598911132386583,
          -0.04868656610608415,
          -0.042948436940306624,
          -0.027539526776654163,
          -0.01403181710841463,
          -0.00461885149189348,
          -9.778458302898559e-19,
          0,
          0.00705451813214187,
          0.02893146853108608,
          0.06057111301249314,
          0.08180902525393668,
          0.09679899212191538,
          0.09452250989509405,
          0.0840981388040083,
          0.059797965390968356,
          0.02850883807949984,
          0.009237168339321629,
          3.6855564918280584e-19,
          -0.0071841574120653385,
          -0.029390790103443896,
          -0.06048845810920837,
          -0.0804291180162079,
          -0.10058586854422151,
          -0.0922362536128771,
          -0.0780429751355813,
          -0.05867883692635646,
          -0.028397150919146512,
          -0.008931507983552057,
          -4.0945645120381865e-19,
          0,
          0.012882532864675212,
          0.041607181839259974,
          0.08535340290271748,
          0.1170608152656772,
          0.13966043257842062,
          0.14191331005110663,
          0.12010084825851619,
          0.07946706135298044,
          0.04225916988861923,
          0.009745989234899471,
          7.279600807092542e-20,
          -0.010871978985130799,
          -0.04364771204817996,
          -0.07860228804341007,
          -0.11665177089010853,
          -0.14051599719313596,
          -0.139718101007807,
          -0.11851202662557946,
          -0.083590674661166,
          -0.0426828994570429,
          -0.009088043716181122,
          -8.949707668708302e-19,
          0,
          0.012046163532940132,
          0.05377695631890257,
          0.09470441079459171,
          0.14163983780202455,
          0.15874383174826698,
          0.16786047754596123,
          0.14293551593072887,
          0.09594013176240553,
          0.051402418890692705,
          0.011882051872853861,
          5.639698258615638e-19,
          -0.014972173796963167,
          -0.048561479423674364,
          -0.09501629491836211,
          -0.1394625441544028,
          -0.16712972490725933,
          -0.16623439276529306,
          -0.13858290585598823,
          -0.09031725183464746,
          -0.052248996146099715,
          -0.01497171353626029,
          -1.2554059526257241e-18,
          0,
          0.012633683726974057,
          0.048559119312280505,
          0.09898451416485846,
          0.14095872090524078,
          0.16721042969505934,
          0.16574161176531166,
          0.14301482070695665,
          0.09798138587017181,
          0.05198370548430493,
          0.0126521971637686,
          5.646118654488208e-19,
          -0.015568479901871157,
          -0.0486846162427493,
          -0.09577758963497893,
          -0.14124115898436873,
          -0.16657978626969938,
          -0.16439305581091346,
          -0.1382383888771816,
          -0.09549019250385254,
          -0.04917304037742879,
          -0.01271972367096579,
          -8.83729259188798e-19,
          0,
          0.010870418027556514,
          0.04108520607250748,
          0.08307207056109271,
          0.11909591204238068,
          0.13900531895405638,
          0.13945817268826585,
          0.11806953153410799,
          0.0822543730450983,
          0.045256780990420235,
          0.011482350770836432,
          5.279346298542306e-19,
          -0.009943692566092857,
          -0.04080711947479255,
          -0.07960376951062621,
          -0.11394391341193354,
          -0.13796466814189468,
          -0.13845124548441648,
          -0.12139553084721418,
          -0.0780773331228475,
          -0.041908276857725274,
          -0.009908819194435592,
          -8.331021355141793e-19,
          0,
          0.006334875379453435,
          0.030700932606969964,
          0.05437158112364385,
          0.07817115834473776,
          0.09769998518226299,
          0.09377564005533803,
          0.07936215877830743,
          0.05346277418498604,
          0.02971921093527624,
          0.00826177619978283,
          6.035395147856373e-19,
          -0.007335259056204402,
          -0.028701944142492847,
          -0.054889827903474915,
          -0.07345344979999138,
          -0.09942101503763619,
          -0.094050377665553,
          -0.0797182754933304,
          -0.056729311300738605,
          -0.030395396643404744,
          -0.008182734517375301,
          -1.4809696299160339e-18,
          0,
          0.0037765443156683298,
          0.015351487574926045,
          0.025726485515436163,
          0.03964547741194331,
          0.05251151810176816,
          0.05240359203975376,
          0.04230057394932993,
          0.02644094477911023,
          0.013260566403785973,
          0.004420291577788551,
          3.7860462887864433e-19,
          -0.004421982213019739,
          -0.01204992767730887,
          -0.028023577503492773,
          -0.0424073677543026,
          -0.04516551804323572,
          -0.050815260107773715,
          -0.04239855600395377,
          -0.028798811342671714,
          -0.01411416678459719,
          -0.0038424588382108063,
          -5.026362874964906e-19,
          0,
          0.0008657123437563282,
          0.0040220990077271,
          0.009265407559795305,
          0.012392299914984375,
          0.012587560093370137,
          0.013754495754379505,
          0.010562749287233107,
          0.008855195241734134,
          0.0039194955369758686,
          0.0011007055715851056,
          2.317777540592255e-19,
          -0.0015385911621942127,
          -0.003580794098270215,
          -0.007744827916507059,
          -0.01165562497974512,
          -0.015771301439005517,
          -0.014613546990261132,
          -0.011952066074835052,
          -0.00825507515987649,
          -0.003917002884532103,
          -0.0008003365818040254,
          -1.8997974350257582e-19,
          0,
          2.456734974177497e-19,
          2.9881394881390833e-19,
          8.235874760527997e-19,
          4.363836438900839e-19,
          3.541327136164672e-19,
          5.690934999331002e-19,
          2.9783654235093424e-19,
          3.2665808219092507e-19,
          1.216645439164053e-19,
          2.6592614029222544e-19,
          5.467637045105345e-35,
          -3.2344784451574276e-19,
          -2.7008600148055427e-19,
          -8.502480792209098e-19,
          -9.631513307347918e-19,
          -9.530089875830072e-19,
          -7.410368242779409e-19,
          -1.245841932115323e-18,
          -5.521520681695116e-19,
          -6.135032884180791e-19,
          -2.0171147933910432e-19,
          -1.6101250435424856e-34
         ],
         "z": [
          0.00415489240817114,
          0.008432937026000785,
          0.010521013343053467,
          0.011103838466223146,
          0.005255651291344428,
          0.005492419215083913,
          0.008997609186613386,
          0.0016988170999447422,
          0.0015921549865556982,
          0.008800976293984,
          0.0082155675350588,
          0.007861427371387153,
          0.009728176191310224,
          0.0019309291087195367,
          0.0033643208946068284,
          0.008222119957182047,
          0.009304641785029794,
          0.0035261415556968696,
          0.003230835759200791,
          0.004495544031617538,
          0.006139259211911853,
          0.004318586782723529,
          0.0033915620060744173,
          0.005056580411518354,
          0.011475564459947754,
          0.02718601154707778,
          0.030160390989880527,
          0.040377981892512606,
          0.0394299919667911,
          0.04042219055179327,
          0.0332989382047488,
          0.03325342679964511,
          0.018350282721352425,
          0.01028274217271344,
          0.0025682308308991844,
          0.010038364142448323,
          0.022914773896926335,
          0.04014617973640277,
          0.0499333408884696,
          0.04513496502985779,
          0.05012882094327021,
          0.046071892017007225,
          0.036830741950358,
          0.018618134029200227,
          0.01971609019581705,
          0.006385279389583484,
          0.0051521240666805345,
          0.03091089253905656,
          0.04644244687962243,
          0.06248033960723973,
          0.07267858550314017,
          0.07370004005984912,
          0.08068303315445562,
          0.07197456299494688,
          0.06601080985520734,
          0.04070264358150383,
          0.027275648478623765,
          0.0035593689728162896,
          0.010826241196422323,
          0.046086761935546526,
          0.05989883436785703,
          0.06792470357856321,
          0.07229632640620469,
          0.07653680998563035,
          0.07346825165806936,
          0.056701772089596016,
          0.04038528520929298,
          0.025510268639965375,
          0.006212231204449205,
          0.00263471908374426,
          0.021697083314570275,
          0.04636952922992983,
          0.06944783030780266,
          0.07793033256426782,
          0.08473932831708292,
          0.08274646072003547,
          0.08011091569284957,
          0.06856137763833528,
          0.045692163853290536,
          0.02841010644452357,
          0.0026077338229754045,
          0.022095805694278232,
          0.04710570081598322,
          0.0693530623002172,
          0.07661584886750883,
          0.0880544182515097,
          0.08074503676438342,
          0.07434283671932725,
          0.06727824051508369,
          0.04551315873154754,
          0.027470008470307988,
          0.0014485647407755022,
          0.002539441037804479,
          0.020882413078188028,
          0.03514600203200769,
          0.051577393282654045,
          0.058770891227407106,
          0.06443665469597715,
          0.06547608930963053,
          0.06029715300804118,
          0.04802039212298325,
          0.03569674284872897,
          0.015798117900929994,
          0.00027146458046190696,
          0.017623332191716853,
          0.03686965827832919,
          0.04749782651257766,
          0.05856552872032761,
          0.06483139585945989,
          0.06446326180725859,
          0.05949947819980452,
          0.05051221105590012,
          0.03605467144697853,
          0.014731597035107563,
          0.0016687238091239232,
          0.001268448411177896,
          0.006147592104257294,
          0.014301471117483712,
          0.018017130382746088,
          0.02238788251172157,
          0.02305862082318523,
          0.024382875607217882,
          0.022592680047277804,
          0.018252221289357443,
          0.01366998542600007,
          0.006063839999862887,
          0.0006621224951020447,
          0.007640840767775443,
          0.01291446453907697,
          0.018076465073444577,
          0.02204373502374854,
          0.024276728818232157,
          0.024146675737460176,
          0.021904697594849178,
          0.01718249116871212,
          0.013895124611920615,
          0.0076406058801238436,
          0.0007369476908171895,
          -0.0010254931421137023,
          -0.006447424868112615,
          -0.012913836889852388,
          -0.018831402704665535,
          -0.022280223781673745,
          -0.02428845173735284,
          -0.024075095946911443,
          -0.022605215122439952,
          -0.018640561611580744,
          -0.013824573078380888,
          -0.006456872943223797,
          -0.0006628762745313238,
          -0.00794515729911162,
          -0.012947211607376172,
          -0.018221298308284395,
          -0.022324866522236538,
          -0.024196846492223884,
          -0.023879209026022266,
          -0.021850242536410044,
          -0.01816662216870773,
          -0.01307710337019328,
          -0.006491334157479965,
          -0.0005187662488811947,
          -0.0007865106134310082,
          -0.017620801900414165,
          -0.034705083888841554,
          -0.050198828733487445,
          -0.059792620411758285,
          -0.0641343977888457,
          -0.06434333584782426,
          -0.05927732161537863,
          -0.04970471010512108,
          -0.03822885488366751,
          -0.018612736674070356,
          -0.001968728184450141,
          -0.0161185923505031,
          -0.034470181362491144,
          -0.04810300219091316,
          -0.05720603710096754,
          -0.06365426139083835,
          -0.06387875887823771,
          -0.060947154030344786,
          -0.04718060651345962,
          -0.035400340001151845,
          -0.016062063082537995,
          -0.0015533662332069711,
          -0.003428232809249354,
          -0.019483728912564228,
          -0.049205514416780914,
          -0.062339754903677005,
          -0.07446494256385615,
          -0.08552807151655806,
          -0.08209263936121902,
          -0.07559947582084303,
          -0.061297761997826924,
          -0.04763207296833367,
          -0.02541016171129984,
          -0.004270373849100929,
          -0.022560538352192374,
          -0.04600166204633284,
          -0.062933950926059,
          -0.06997090789357163,
          -0.08703468755419502,
          -0.08233314889590236,
          -0.07593870849043285,
          -0.06504301124332344,
          -0.04871582068491559,
          -0.025167058789683373,
          -0.005239337130355375,
          -0.005000178710783433,
          -0.020858141941242362,
          -0.044183458158709735,
          -0.05296885927608443,
          -0.0678181586830098,
          -0.08254975457202707,
          -0.08238009141519452,
          -0.07236000733878992,
          -0.05443987606822806,
          -0.0381655313859896,
          -0.0244136071086658,
          -0.004810532328949325,
          -0.02442294461583519,
          -0.034681165114933146,
          -0.05769839538728725,
          -0.07254269045133625,
          -0.07100161191991945,
          -0.07988318376705224,
          -0.07252761693671508,
          -0.05929454236620085,
          -0.04062229764566024,
          -0.02122219287041486,
          -0.003193236329236707,
          -0.0013828860997844366,
          -0.010465050666257495,
          -0.025336620584128035,
          -0.04175335502698065,
          -0.04639711212499952,
          -0.04331012742791147,
          -0.04732521310008309,
          -0.03954722419487465,
          -0.03990478652722357,
          -0.02469028512494506,
          -0.013305735627251585,
          -0.0064456342825335465,
          -0.018599058432220435,
          -0.02255668527389792,
          -0.03490106048048837,
          -0.04363898088185201,
          -0.0542644539498245,
          -0.050280958154498706,
          -0.04474886450488427,
          -0.03720042337051247,
          -0.02467458302783249,
          -0.009674764301380838,
          -0.0026416252773642577,
          -0.0032551967364307824,
          -0.007120498841254074,
          -0.004513164713607846,
          -0.008898585362224456,
          -0.003917345571937029,
          -0.0029214491948552942,
          -0.0046947872457147296,
          -0.002673630592427388,
          -0.0035294305864968325,
          -0.001837571936250771,
          -0.007707493049566338,
          -0.003645675199665027,
          -0.009374678287598142,
          -0.004079269446288774,
          -0.009186644202357439,
          -0.008646054116339733,
          -0.007861932073520731,
          -0.0061132489329679554,
          -0.011183722040083388,
          -0.005965817177166719,
          -0.0092661048922291,
          -0.005846321927266893,
          -0.005367943127147821
         ]
        },
        {
         "cmax": 6.283185307179586,
         "cmid": 3.141592653589793,
         "cmin": 0,
         "colorbar": {
          "labelalias": {
           "0": "0",
           "1.5708": "π/2",
           "3.1416": "π",
           "4.7124": "3π/2",
           "6.2832": "2π"
          },
          "tickmode": "array",
          "ticks": "outside",
          "tickvals": [
           0,
           1.5708,
           3.1416,
           4.7124,
           6.2832
          ],
          "title": {
           "side": "top",
           "text": "Phase"
          }
         },
         "colorscale": [
          [
           0,
           "rgb(255, 0, 0)"
          ],
          [
           0.003937007874015748,
           "rgb(255, 12, 0)"
          ],
          [
           0.007874015748031496,
           "rgb(255, 19, 0)"
          ],
          [
           0.011811023622047244,
           "rgb(255, 26, 0)"
          ],
          [
           0.015748031496062992,
           "rgb(255, 32, 0)"
          ],
          [
           0.01968503937007874,
           "rgb(255, 38, 0)"
          ],
          [
           0.023622047244094488,
           "rgb(255, 43, 0)"
          ],
          [
           0.027559055118110236,
           "rgb(255, 49, 0)"
          ],
          [
           0.031496062992125984,
           "rgb(255, 54, 0)"
          ],
          [
           0.03543307086614173,
           "rgb(255, 59, 0)"
          ],
          [
           0.03937007874015748,
           "rgb(255, 64, 0)"
          ],
          [
           0.04330708661417323,
           "rgb(255, 68, 0)"
          ],
          [
           0.047244094488188976,
           "rgb(255, 73, 0)"
          ],
          [
           0.051181102362204724,
           "rgb(255, 78, 0)"
          ],
          [
           0.05511811023622047,
           "rgb(255, 82, 0)"
          ],
          [
           0.05905511811023622,
           "rgb(255, 87, 0)"
          ],
          [
           0.06299212598425197,
           "rgb(255, 92, 0)"
          ],
          [
           0.06692913385826772,
           "rgb(255, 96, 0)"
          ],
          [
           0.07086614173228346,
           "rgb(255, 100, 0)"
          ],
          [
           0.07480314960629922,
           "rgb(255, 105, 0)"
          ],
          [
           0.07874015748031496,
           "rgb(255, 109, 0)"
          ],
          [
           0.08267716535433071,
           "rgb(255, 113, 0)"
          ],
          [
           0.08661417322834646,
           "rgb(255, 118, 0)"
          ],
          [
           0.09055118110236221,
           "rgb(255, 122, 0)"
          ],
          [
           0.09448818897637795,
           "rgb(255, 126, 0)"
          ],
          [
           0.0984251968503937,
           "rgb(255, 130, 0)"
          ],
          [
           0.10236220472440945,
           "rgb(255, 134, 0)"
          ],
          [
           0.1062992125984252,
           "rgb(255, 138, 0)"
          ],
          [
           0.11023622047244094,
           "rgb(255, 142, 0)"
          ],
          [
           0.1141732283464567,
           "rgb(255, 146, 0)"
          ],
          [
           0.11811023622047244,
           "rgb(255, 150, 0)"
          ],
          [
           0.1220472440944882,
           "rgb(255, 154, 0)"
          ],
          [
           0.12598425196850394,
           "rgb(255, 158, 0)"
          ],
          [
           0.12992125984251968,
           "rgb(255, 162, 0)"
          ],
          [
           0.13385826771653545,
           "rgb(255, 166, 0)"
          ],
          [
           0.1377952755905512,
           "rgb(255, 169, 0)"
          ],
          [
           0.14173228346456693,
           "rgb(255, 173, 0)"
          ],
          [
           0.14566929133858267,
           "rgb(255, 177, 0)"
          ],
          [
           0.14960629921259844,
           "rgb(255, 180, 0)"
          ],
          [
           0.15354330708661418,
           "rgb(255, 184, 0)"
          ],
          [
           0.15748031496062992,
           "rgb(255, 187, 0)"
          ],
          [
           0.16141732283464566,
           "rgb(255, 191, 0)"
          ],
          [
           0.16535433070866143,
           "rgb(255, 194, 0)"
          ],
          [
           0.16929133858267717,
           "rgb(255, 198, 0)"
          ],
          [
           0.1732283464566929,
           "rgb(255, 201, 0)"
          ],
          [
           0.17716535433070865,
           "rgb(255, 204, 0)"
          ],
          [
           0.18110236220472442,
           "rgb(255, 207, 0)"
          ],
          [
           0.18503937007874016,
           "rgb(255, 211, 0)"
          ],
          [
           0.1889763779527559,
           "rgb(255, 214, 0)"
          ],
          [
           0.19291338582677164,
           "rgb(255, 217, 0)"
          ],
          [
           0.1968503937007874,
           "rgb(255, 220, 0)"
          ],
          [
           0.20078740157480315,
           "rgb(255, 223, 0)"
          ],
          [
           0.2047244094488189,
           "rgb(255, 226, 0)"
          ],
          [
           0.20866141732283464,
           "rgb(255, 228, 0)"
          ],
          [
           0.2125984251968504,
           "rgb(255, 231, 0)"
          ],
          [
           0.21653543307086615,
           "rgb(255, 234, 0)"
          ],
          [
           0.2204724409448819,
           "rgb(255, 237, 0)"
          ],
          [
           0.22440944881889763,
           "rgb(255, 239, 0)"
          ],
          [
           0.2283464566929134,
           "rgb(255, 242, 0)"
          ],
          [
           0.23228346456692914,
           "rgb(255, 244, 0)"
          ],
          [
           0.23622047244094488,
           "rgb(255, 247, 0)"
          ],
          [
           0.24015748031496062,
           "rgb(255, 249, 0)"
          ],
          [
           0.2440944881889764,
           "rgb(255, 252, 0)"
          ],
          [
           0.24803149606299213,
           "rgb(255, 254, 0)"
          ],
          [
           0.25196850393700787,
           "rgb(254, 255, 0)"
          ],
          [
           0.2559055118110236,
           "rgb(252, 255, 0)"
          ],
          [
           0.25984251968503935,
           "rgb(249, 255, 0)"
          ],
          [
           0.2637795275590551,
           "rgb(247, 255, 0)"
          ],
          [
           0.2677165354330709,
           "rgb(244, 255, 0)"
          ],
          [
           0.27165354330708663,
           "rgb(242, 255, 0)"
          ],
          [
           0.2755905511811024,
           "rgb(239, 255, 0)"
          ],
          [
           0.2795275590551181,
           "rgb(237, 255, 0)"
          ],
          [
           0.28346456692913385,
           "rgb(234, 255, 0)"
          ],
          [
           0.2874015748031496,
           "rgb(231, 255, 0)"
          ],
          [
           0.29133858267716534,
           "rgb(228, 255, 0)"
          ],
          [
           0.2952755905511811,
           "rgb(226, 255, 0)"
          ],
          [
           0.2992125984251969,
           "rgb(223, 255, 0)"
          ],
          [
           0.3031496062992126,
           "rgb(220, 255, 0)"
          ],
          [
           0.30708661417322836,
           "rgb(217, 255, 0)"
          ],
          [
           0.3110236220472441,
           "rgb(214, 255, 0)"
          ],
          [
           0.31496062992125984,
           "rgb(211, 255, 0)"
          ],
          [
           0.3188976377952756,
           "rgb(207, 255, 0)"
          ],
          [
           0.3228346456692913,
           "rgb(204, 255, 0)"
          ],
          [
           0.32677165354330706,
           "rgb(201, 255, 0)"
          ],
          [
           0.33070866141732286,
           "rgb(198, 255, 0)"
          ],
          [
           0.3346456692913386,
           "rgb(194, 255, 0)"
          ],
          [
           0.33858267716535434,
           "rgb(191, 255, 0)"
          ],
          [
           0.3425196850393701,
           "rgb(187, 255, 0)"
          ],
          [
           0.3464566929133858,
           "rgb(184, 255, 0)"
          ],
          [
           0.35039370078740156,
           "rgb(180, 255, 0)"
          ],
          [
           0.3543307086614173,
           "rgb(177, 255, 0)"
          ],
          [
           0.35826771653543305,
           "rgb(173, 255, 0)"
          ],
          [
           0.36220472440944884,
           "rgb(169, 255, 0)"
          ],
          [
           0.3661417322834646,
           "rgb(166, 255, 0)"
          ],
          [
           0.3700787401574803,
           "rgb(162, 255, 0)"
          ],
          [
           0.37401574803149606,
           "rgb(158, 255, 0)"
          ],
          [
           0.3779527559055118,
           "rgb(154, 255, 0)"
          ],
          [
           0.38188976377952755,
           "rgb(150, 255, 0)"
          ],
          [
           0.3858267716535433,
           "rgb(146, 255, 0)"
          ],
          [
           0.38976377952755903,
           "rgb(142, 255, 0)"
          ],
          [
           0.3937007874015748,
           "rgb(138, 255, 0)"
          ],
          [
           0.39763779527559057,
           "rgb(134, 255, 0)"
          ],
          [
           0.4015748031496063,
           "rgb(130, 255, 0)"
          ],
          [
           0.40551181102362205,
           "rgb(126, 255, 0)"
          ],
          [
           0.4094488188976378,
           "rgb(122, 255, 0)"
          ],
          [
           0.41338582677165353,
           "rgb(118, 255, 0)"
          ],
          [
           0.41732283464566927,
           "rgb(113, 255, 0)"
          ],
          [
           0.421259842519685,
           "rgb(109, 255, 0)"
          ],
          [
           0.4251968503937008,
           "rgb(105, 255, 0)"
          ],
          [
           0.42913385826771655,
           "rgb(100, 255, 0)"
          ],
          [
           0.4330708661417323,
           "rgb(96, 255, 0)"
          ],
          [
           0.43700787401574803,
           "rgb(92, 255, 0)"
          ],
          [
           0.4409448818897638,
           "rgb(87, 255, 0)"
          ],
          [
           0.4448818897637795,
           "rgb(82, 255, 0)"
          ],
          [
           0.44881889763779526,
           "rgb(78, 255, 0)"
          ],
          [
           0.452755905511811,
           "rgb(73, 255, 0)"
          ],
          [
           0.4566929133858268,
           "rgb(68, 255, 0)"
          ],
          [
           0.46062992125984253,
           "rgb(64, 255, 0)"
          ],
          [
           0.4645669291338583,
           "rgb(59, 255, 0)"
          ],
          [
           0.468503937007874,
           "rgb(54, 255, 0)"
          ],
          [
           0.47244094488188976,
           "rgb(49, 255, 0)"
          ],
          [
           0.4763779527559055,
           "rgb(43, 255, 0)"
          ],
          [
           0.48031496062992124,
           "rgb(38, 255, 0)"
          ],
          [
           0.484251968503937,
           "rgb(32, 255, 0)"
          ],
          [
           0.4881889763779528,
           "rgb(26, 255, 0)"
          ],
          [
           0.4921259842519685,
           "rgb(19, 255, 0)"
          ],
          [
           0.49606299212598426,
           "rgb(12, 255, 0)"
          ],
          [
           0.5,
           "rgb(1, 255, 0)"
          ],
          [
           0.5039370078740157,
           "rgb(0, 253, 8)"
          ],
          [
           0.5078740157480315,
           "rgb(0, 250, 15)"
          ],
          [
           0.5118110236220472,
           "rgb(0, 248, 21)"
          ],
          [
           0.515748031496063,
           "rgb(0, 246, 27)"
          ],
          [
           0.5196850393700787,
           "rgb(0, 243, 33)"
          ],
          [
           0.5236220472440944,
           "rgb(0, 241, 40)"
          ],
          [
           0.5275590551181102,
           "rgb(0, 238, 46)"
          ],
          [
           0.531496062992126,
           "rgb(0, 235, 53)"
          ],
          [
           0.5354330708661418,
           "rgb(0, 233, 60)"
          ],
          [
           0.5393700787401575,
           "rgb(0, 230, 67)"
          ],
          [
           0.5433070866141733,
           "rgb(0, 227, 74)"
          ],
          [
           0.547244094488189,
           "rgb(0, 224, 81)"
          ],
          [
           0.5511811023622047,
           "rgb(0, 221, 89)"
          ],
          [
           0.5551181102362205,
           "rgb(0, 218, 96)"
          ],
          [
           0.5590551181102362,
           "rgb(0, 215, 103)"
          ],
          [
           0.562992125984252,
           "rgb(0, 212, 111)"
          ],
          [
           0.5669291338582677,
           "rgb(0, 209, 118)"
          ],
          [
           0.5708661417322834,
           "rgb(0, 206, 126)"
          ],
          [
           0.5748031496062992,
           "rgb(0, 202, 133)"
          ],
          [
           0.5787401574803149,
           "rgb(0, 199, 140)"
          ],
          [
           0.5826771653543307,
           "rgb(0, 196, 148)"
          ],
          [
           0.5866141732283464,
           "rgb(0, 192, 155)"
          ],
          [
           0.5905511811023622,
           "rgb(0, 189, 163)"
          ],
          [
           0.594488188976378,
           "rgb(0, 186, 170)"
          ],
          [
           0.5984251968503937,
           "rgb(0, 182, 174)"
          ],
          [
           0.6023622047244095,
           "rgb(0, 178, 178)"
          ],
          [
           0.6062992125984252,
           "rgb(0, 175, 182)"
          ],
          [
           0.610236220472441,
           "rgb(0, 171, 186)"
          ],
          [
           0.6141732283464567,
           "rgb(0, 167, 190)"
          ],
          [
           0.6181102362204725,
           "rgb(0, 164, 194)"
          ],
          [
           0.6220472440944882,
           "rgb(0, 160, 197)"
          ],
          [
           0.6259842519685039,
           "rgb(0, 156, 201)"
          ],
          [
           0.6299212598425197,
           "rgb(0, 152, 204)"
          ],
          [
           0.6338582677165354,
           "rgb(0, 148, 208)"
          ],
          [
           0.6377952755905512,
           "rgb(0, 144, 211)"
          ],
          [
           0.6417322834645669,
           "rgb(0, 140, 214)"
          ],
          [
           0.6456692913385826,
           "rgb(0, 136, 217)"
          ],
          [
           0.6496062992125984,
           "rgb(0, 132, 220)"
          ],
          [
           0.6535433070866141,
           "rgb(0, 128, 222)"
          ],
          [
           0.65748031496063,
           "rgb(0, 124, 225)"
          ],
          [
           0.6614173228346457,
           "rgb(0, 120, 227)"
          ],
          [
           0.6653543307086615,
           "rgb(0, 116, 230)"
          ],
          [
           0.6692913385826772,
           "rgb(0, 111, 232)"
          ],
          [
           0.6732283464566929,
           "rgb(0, 107, 234)"
          ],
          [
           0.6771653543307087,
           "rgb(0, 103, 236)"
          ],
          [
           0.6811023622047244,
           "rgb(0, 98, 238)"
          ],
          [
           0.6850393700787402,
           "rgb(0, 94, 240)"
          ],
          [
           0.6889763779527559,
           "rgb(0, 89, 242)"
          ],
          [
           0.6929133858267716,
           "rgb(0, 85, 244)"
          ],
          [
           0.6968503937007874,
           "rgb(0, 80, 245)"
          ],
          [
           0.7007874015748031,
           "rgb(0, 76, 246)"
          ],
          [
           0.7047244094488189,
           "rgb(0, 71, 248)"
          ],
          [
           0.7086614173228346,
           "rgb(0, 66, 249)"
          ],
          [
           0.7125984251968503,
           "rgb(0, 61, 250)"
          ],
          [
           0.7165354330708661,
           "rgb(0, 56, 251)"
          ],
          [
           0.7204724409448819,
           "rgb(0, 51, 252)"
          ],
          [
           0.7244094488188977,
           "rgb(0, 46, 253)"
          ],
          [
           0.7283464566929134,
           "rgb(0, 41, 253)"
          ],
          [
           0.7322834645669292,
           "rgb(0, 35, 254)"
          ],
          [
           0.7362204724409449,
           "rgb(0, 29, 254)"
          ],
          [
           0.7401574803149606,
           "rgb(0, 23, 255)"
          ],
          [
           0.7440944881889764,
           "rgb(0, 16, 255)"
          ],
          [
           0.7480314960629921,
           "rgb(0, 7, 255)"
          ],
          [
           0.7519685039370079,
           "rgb(7, 0, 255)"
          ],
          [
           0.7559055118110236,
           "rgb(16, 0, 255)"
          ],
          [
           0.7598425196850394,
           "rgb(23, 0, 255)"
          ],
          [
           0.7637795275590551,
           "rgb(29, 0, 254)"
          ],
          [
           0.7677165354330708,
           "rgb(35, 0, 254)"
          ],
          [
           0.7716535433070866,
           "rgb(41, 0, 253)"
          ],
          [
           0.7755905511811023,
           "rgb(46, 0, 253)"
          ],
          [
           0.7795275590551181,
           "rgb(51, 0, 252)"
          ],
          [
           0.7834645669291339,
           "rgb(56, 0, 251)"
          ],
          [
           0.7874015748031497,
           "rgb(61, 0, 250)"
          ],
          [
           0.7913385826771654,
           "rgb(66, 0, 249)"
          ],
          [
           0.7952755905511811,
           "rgb(71, 0, 248)"
          ],
          [
           0.7992125984251969,
           "rgb(76, 0, 246)"
          ],
          [
           0.8031496062992126,
           "rgb(80, 0, 245)"
          ],
          [
           0.8070866141732284,
           "rgb(85, 0, 244)"
          ],
          [
           0.8110236220472441,
           "rgb(89, 0, 242)"
          ],
          [
           0.8149606299212598,
           "rgb(94, 0, 240)"
          ],
          [
           0.8188976377952756,
           "rgb(98, 0, 238)"
          ],
          [
           0.8228346456692913,
           "rgb(103, 0, 236)"
          ],
          [
           0.8267716535433071,
           "rgb(107, 0, 234)"
          ],
          [
           0.8307086614173228,
           "rgb(111, 0, 232)"
          ],
          [
           0.8346456692913385,
           "rgb(116, 0, 230)"
          ],
          [
           0.8385826771653543,
           "rgb(120, 0, 227)"
          ],
          [
           0.84251968503937,
           "rgb(124, 0, 225)"
          ],
          [
           0.8464566929133859,
           "rgb(128, 0, 219)"
          ],
          [
           0.8503937007874016,
           "rgb(132, 0, 213)"
          ],
          [
           0.8543307086614174,
           "rgb(136, 0, 206)"
          ],
          [
           0.8582677165354331,
           "rgb(140, 0, 199)"
          ],
          [
           0.8622047244094488,
           "rgb(144, 0, 192)"
          ],
          [
           0.8661417322834646,
           "rgb(148, 0, 185)"
          ],
          [
           0.8700787401574803,
           "rgb(152, 0, 178)"
          ],
          [
           0.8740157480314961,
           "rgb(156, 0, 171)"
          ],
          [
           0.8779527559055118,
           "rgb(160, 0, 163)"
          ],
          [
           0.8818897637795275,
           "rgb(164, 0, 156)"
          ],
          [
           0.8858267716535433,
           "rgb(167, 0, 148)"
          ],
          [
           0.889763779527559,
           "rgb(171, 0, 141)"
          ],
          [
           0.8937007874015748,
           "rgb(175, 0, 134)"
          ],
          [
           0.8976377952755905,
           "rgb(178, 0, 126)"
          ],
          [
           0.9015748031496063,
           "rgb(182, 0, 119)"
          ],
          [
           0.905511811023622,
           "rgb(186, 0, 111)"
          ],
          [
           0.9094488188976378,
           "rgb(189, 0, 104)"
          ],
          [
           0.9133858267716536,
           "rgb(192, 0, 96)"
          ],
          [
           0.9173228346456693,
           "rgb(196, 0, 89)"
          ],
          [
           0.9212598425196851,
           "rgb(199, 0, 82)"
          ],
          [
           0.9251968503937008,
           "rgb(202, 0, 75)"
          ],
          [
           0.9291338582677166,
           "rgb(206, 0, 67)"
          ],
          [
           0.9330708661417323,
           "rgb(209, 0, 60)"
          ],
          [
           0.937007874015748,
           "rgb(212, 0, 54)"
          ],
          [
           0.9409448818897638,
           "rgb(215, 0, 47)"
          ],
          [
           0.9448818897637795,
           "rgb(218, 0, 40)"
          ],
          [
           0.9488188976377953,
           "rgb(221, 0, 34)"
          ],
          [
           0.952755905511811,
           "rgb(224, 0, 27)"
          ],
          [
           0.9566929133858267,
           "rgb(227, 0, 21)"
          ],
          [
           0.9606299212598425,
           "rgb(230, 0, 15)"
          ],
          [
           0.9645669291338582,
           "rgb(233, 0, 9)"
          ],
          [
           0.968503937007874,
           "rgb(235, 0, 1)"
          ],
          [
           0.9724409448818898,
           "rgb(238, 0, 0)"
          ],
          [
           0.9763779527559056,
           "rgb(241, 0, 0)"
          ],
          [
           0.9803149606299213,
           "rgb(243, 0, 0)"
          ],
          [
           0.984251968503937,
           "rgb(246, 0, 0)"
          ],
          [
           0.9881889763779528,
           "rgb(248, 0, 0)"
          ],
          [
           0.9921259842519685,
           "rgb(250, 0, 0)"
          ],
          [
           0.9960629921259843,
           "rgb(253, 0, 0)"
          ],
          [
           1,
           "rgb(255, 0, 0)"
          ]
         ],
         "intensity": [
          null
         ],
         "scene": "scene",
         "showscale": true,
         "type": "mesh3d",
         "x": [
          null
         ],
         "y": [
          null
         ],
         "z": [
          null
         ]
        }
       ],
       "layout": {
        "annotations": [
         {
          "font": {
           "size": 16
          },
          "showarrow": false,
          "text": "Process",
          "x": 0.5,
          "xanchor": "center",
          "xref": "paper",
          "y": 1,
          "yanchor": "bottom",
          "yref": "paper"
         }
        ],
        "scene": {
         "aspectmode": "cube",
         "domain": {
          "x": [
           0,
           1
          ],
          "y": [
           0,
           1
          ]
         },
         "xaxis": {
          "range": [
           -0.5,
           0.5
          ]
         },
         "yaxis": {
          "range": [
           -0.5,
           0.5
          ]
         },
         "zaxis": {
          "range": [
           -0.5,
           0.5
          ]
         }
        },
        "template": {
         "data": {
          "bar": [
           {
            "error_x": {
             "color": "#2a3f5f"
            },
            "error_y": {
             "color": "#2a3f5f"
            },
            "marker": {
             "line": {
              "color": "#E5ECF6",
              "width": 0.5
             },
             "pattern": {
              "fillmode": "overlay",
              "size": 10,
              "solidity": 0.2
             }
            },
            "type": "bar"
           }
          ],
          "barpolar": [
           {
            "marker": {
             "line": {
              "color": "#E5ECF6",
              "width": 0.5
             },
             "pattern": {
              "fillmode": "overlay",
              "size": 10,
              "solidity": 0.2
             }
            },
            "type": "barpolar"
           }
          ],
          "carpet": [
           {
            "aaxis": {
             "endlinecolor": "#2a3f5f",
             "gridcolor": "white",
             "linecolor": "white",
             "minorgridcolor": "white",
             "startlinecolor": "#2a3f5f"
            },
            "baxis": {
             "endlinecolor": "#2a3f5f",
             "gridcolor": "white",
             "linecolor": "white",
             "minorgridcolor": "white",
             "startlinecolor": "#2a3f5f"
            },
            "type": "carpet"
           }
          ],
          "choropleth": [
           {
            "colorbar": {
             "outlinewidth": 0,
             "ticks": ""
            },
            "type": "choropleth"
           }
          ],
          "contour": [
           {
            "colorbar": {
             "outlinewidth": 0,
             "ticks": ""
            },
            "colorscale": [
             [
              0,
              "#0d0887"
             ],
             [
              0.1111111111111111,
              "#46039f"
             ],
             [
              0.2222222222222222,
              "#7201a8"
             ],
             [
              0.3333333333333333,
              "#9c179e"
             ],
             [
              0.4444444444444444,
              "#bd3786"
             ],
             [
              0.5555555555555556,
              "#d8576b"
             ],
             [
              0.6666666666666666,
              "#ed7953"
             ],
             [
              0.7777777777777778,
              "#fb9f3a"
             ],
             [
              0.8888888888888888,
              "#fdca26"
             ],
             [
              1,
              "#f0f921"
             ]
            ],
            "type": "contour"
           }
          ],
          "contourcarpet": [
           {
            "colorbar": {
             "outlinewidth": 0,
             "ticks": ""
            },
            "type": "contourcarpet"
           }
          ],
          "heatmap": [
           {
            "colorbar": {
             "outlinewidth": 0,
             "ticks": ""
            },
            "colorscale": [
             [
              0,
              "#0d0887"
             ],
             [
              0.1111111111111111,
              "#46039f"
             ],
             [
              0.2222222222222222,
              "#7201a8"
             ],
             [
              0.3333333333333333,
              "#9c179e"
             ],
             [
              0.4444444444444444,
              "#bd3786"
             ],
             [
              0.5555555555555556,
              "#d8576b"
             ],
             [
              0.6666666666666666,
              "#ed7953"
             ],
             [
              0.7777777777777778,
              "#fb9f3a"
             ],
             [
              0.8888888888888888,
              "#fdca26"
             ],
             [
              1,
              "#f0f921"
             ]
            ],
            "type": "heatmap"
           }
          ],
          "heatmapgl": [
           {
            "colorbar": {
             "outlinewidth": 0,
             "ticks": ""
            },
            "colorscale": [
             [
              0,
              "#0d0887"
             ],
             [
              0.1111111111111111,
              "#46039f"
             ],
             [
              0.2222222222222222,
              "#7201a8"
             ],
             [
              0.3333333333333333,
              "#9c179e"
             ],
             [
              0.4444444444444444,
              "#bd3786"
             ],
             [
              0.5555555555555556,
              "#d8576b"
             ],
             [
              0.6666666666666666,
              "#ed7953"
             ],
             [
              0.7777777777777778,
              "#fb9f3a"
             ],
             [
              0.8888888888888888,
              "#fdca26"
             ],
             [
              1,
              "#f0f921"
             ]
            ],
            "type": "heatmapgl"
           }
          ],
          "histogram": [
           {
            "marker": {
             "pattern": {
              "fillmode": "overlay",
              "size": 10,
              "solidity": 0.2
             }
            },
            "type": "histogram"
           }
          ],
          "histogram2d": [
           {
            "colorbar": {
             "outlinewidth": 0,
             "ticks": ""
            },
            "colorscale": [
             [
              0,
              "#0d0887"
             ],
             [
              0.1111111111111111,
              "#46039f"
             ],
             [
              0.2222222222222222,
              "#7201a8"
             ],
             [
              0.3333333333333333,
              "#9c179e"
             ],
             [
              0.4444444444444444,
              "#bd3786"
             ],
             [
              0.5555555555555556,
              "#d8576b"
             ],
             [
              0.6666666666666666,
              "#ed7953"
             ],
             [
              0.7777777777777778,
              "#fb9f3a"
             ],
             [
              0.8888888888888888,
              "#fdca26"
             ],
             [
              1,
              "#f0f921"
             ]
            ],
            "type": "histogram2d"
           }
          ],
          "histogram2dcontour": [
           {
            "colorbar": {
             "outlinewidth": 0,
             "ticks": ""
            },
            "colorscale": [
             [
              0,
              "#0d0887"
             ],
             [
              0.1111111111111111,
              "#46039f"
             ],
             [
              0.2222222222222222,
              "#7201a8"
             ],
             [
              0.3333333333333333,
              "#9c179e"
             ],
             [
              0.4444444444444444,
              "#bd3786"
             ],
             [
              0.5555555555555556,
              "#d8576b"
             ],
             [
              0.6666666666666666,
              "#ed7953"
             ],
             [
              0.7777777777777778,
              "#fb9f3a"
             ],
             [
              0.8888888888888888,
              "#fdca26"
             ],
             [
              1,
              "#f0f921"
             ]
            ],
            "type": "histogram2dcontour"
           }
          ],
          "mesh3d": [
           {
            "colorbar": {
             "outlinewidth": 0,
             "ticks": ""
            },
            "type": "mesh3d"
           }
          ],
          "parcoords": [
           {
            "line": {
             "colorbar": {
              "outlinewidth": 0,
              "ticks": ""
             }
            },
            "type": "parcoords"
           }
          ],
          "pie": [
           {
            "automargin": true,
            "type": "pie"
           }
          ],
          "scatter": [
           {
            "fillpattern": {
             "fillmode": "overlay",
             "size": 10,
             "solidity": 0.2
            },
            "type": "scatter"
           }
          ],
          "scatter3d": [
           {
            "line": {
             "colorbar": {
              "outlinewidth": 0,
              "ticks": ""
             }
            },
            "marker": {
             "colorbar": {
              "outlinewidth": 0,
              "ticks": ""
             }
            },
            "type": "scatter3d"
           }
          ],
          "scattercarpet": [
           {
            "marker": {
             "colorbar": {
              "outlinewidth": 0,
              "ticks": ""
             }
            },
            "type": "scattercarpet"
           }
          ],
          "scattergeo": [
           {
            "marker": {
             "colorbar": {
              "outlinewidth": 0,
              "ticks": ""
             }
            },
            "type": "scattergeo"
           }
          ],
          "scattergl": [
           {
            "marker": {
             "colorbar": {
              "outlinewidth": 0,
              "ticks": ""
             }
            },
            "type": "scattergl"
           }
          ],
          "scattermapbox": [
           {
            "marker": {
             "colorbar": {
              "outlinewidth": 0,
              "ticks": ""
             }
            },
            "type": "scattermapbox"
           }
          ],
          "scatterpolar": [
           {
            "marker": {
             "colorbar": {
              "outlinewidth": 0,
              "ticks": ""
             }
            },
            "type": "scatterpolar"
           }
          ],
          "scatterpolargl": [
           {
            "marker": {
             "colorbar": {
              "outlinewidth": 0,
              "ticks": ""
             }
            },
            "type": "scatterpolargl"
           }
          ],
          "scatterternary": [
           {
            "marker": {
             "colorbar": {
              "outlinewidth": 0,
              "ticks": ""
             }
            },
            "type": "scatterternary"
           }
          ],
          "surface": [
           {
            "colorbar": {
             "outlinewidth": 0,
             "ticks": ""
            },
            "colorscale": [
             [
              0,
              "#0d0887"
             ],
             [
              0.1111111111111111,
              "#46039f"
             ],
             [
              0.2222222222222222,
              "#7201a8"
             ],
             [
              0.3333333333333333,
              "#9c179e"
             ],
             [
              0.4444444444444444,
              "#bd3786"
             ],
             [
              0.5555555555555556,
              "#d8576b"
             ],
             [
              0.6666666666666666,
              "#ed7953"
             ],
             [
              0.7777777777777778,
              "#fb9f3a"
             ],
             [
              0.8888888888888888,
              "#fdca26"
             ],
             [
              1,
              "#f0f921"
             ]
            ],
            "type": "surface"
           }
          ],
          "table": [
           {
            "cells": {
             "fill": {
              "color": "#EBF0F8"
             },
             "line": {
              "color": "white"
             }
            },
            "header": {
             "fill": {
              "color": "#C8D4E3"
             },
             "line": {
              "color": "white"
             }
            },
            "type": "table"
           }
          ]
         },
         "layout": {
          "annotationdefaults": {
           "arrowcolor": "#2a3f5f",
           "arrowhead": 0,
           "arrowwidth": 1
          },
          "autotypenumbers": "strict",
          "coloraxis": {
           "colorbar": {
            "outlinewidth": 0,
            "ticks": ""
           }
          },
          "colorscale": {
           "diverging": [
            [
             0,
             "#8e0152"
            ],
            [
             0.1,
             "#c51b7d"
            ],
            [
             0.2,
             "#de77ae"
            ],
            [
             0.3,
             "#f1b6da"
            ],
            [
             0.4,
             "#fde0ef"
            ],
            [
             0.5,
             "#f7f7f7"
            ],
            [
             0.6,
             "#e6f5d0"
            ],
            [
             0.7,
             "#b8e186"
            ],
            [
             0.8,
             "#7fbc41"
            ],
            [
             0.9,
             "#4d9221"
            ],
            [
             1,
             "#276419"
            ]
           ],
           "sequential": [
            [
             0,
             "#0d0887"
            ],
            [
             0.1111111111111111,
             "#46039f"
            ],
            [
             0.2222222222222222,
             "#7201a8"
            ],
            [
             0.3333333333333333,
             "#9c179e"
            ],
            [
             0.4444444444444444,
             "#bd3786"
            ],
            [
             0.5555555555555556,
             "#d8576b"
            ],
            [
             0.6666666666666666,
             "#ed7953"
            ],
            [
             0.7777777777777778,
             "#fb9f3a"
            ],
            [
             0.8888888888888888,
             "#fdca26"
            ],
            [
             1,
             "#f0f921"
            ]
           ],
           "sequentialminus": [
            [
             0,
             "#0d0887"
            ],
            [
             0.1111111111111111,
             "#46039f"
            ],
            [
             0.2222222222222222,
             "#7201a8"
            ],
            [
             0.3333333333333333,
             "#9c179e"
            ],
            [
             0.4444444444444444,
             "#bd3786"
            ],
            [
             0.5555555555555556,
             "#d8576b"
            ],
            [
             0.6666666666666666,
             "#ed7953"
            ],
            [
             0.7777777777777778,
             "#fb9f3a"
            ],
            [
             0.8888888888888888,
             "#fdca26"
            ],
            [
             1,
             "#f0f921"
            ]
           ]
          },
          "colorway": [
           "#636efa",
           "#EF553B",
           "#00cc96",
           "#ab63fa",
           "#FFA15A",
           "#19d3f3",
           "#FF6692",
           "#B6E880",
           "#FF97FF",
           "#FECB52"
          ],
          "font": {
           "color": "#2a3f5f"
          },
          "geo": {
           "bgcolor": "white",
           "lakecolor": "white",
           "landcolor": "#E5ECF6",
           "showlakes": true,
           "showland": true,
           "subunitcolor": "white"
          },
          "hoverlabel": {
           "align": "left"
          },
          "hovermode": "closest",
          "mapbox": {
           "style": "light"
          },
          "paper_bgcolor": "white",
          "plot_bgcolor": "#E5ECF6",
          "polar": {
           "angularaxis": {
            "gridcolor": "white",
            "linecolor": "white",
            "ticks": ""
           },
           "bgcolor": "#E5ECF6",
           "radialaxis": {
            "gridcolor": "white",
            "linecolor": "white",
            "ticks": ""
           }
          },
          "scene": {
           "xaxis": {
            "backgroundcolor": "#E5ECF6",
            "gridcolor": "white",
            "gridwidth": 2,
            "linecolor": "white",
            "showbackground": true,
            "ticks": "",
            "zerolinecolor": "white"
           },
           "yaxis": {
            "backgroundcolor": "#E5ECF6",
            "gridcolor": "white",
            "gridwidth": 2,
            "linecolor": "white",
            "showbackground": true,
            "ticks": "",
            "zerolinecolor": "white"
           },
           "zaxis": {
            "backgroundcolor": "#E5ECF6",
            "gridcolor": "white",
            "gridwidth": 2,
            "linecolor": "white",
            "showbackground": true,
            "ticks": "",
            "zerolinecolor": "white"
           }
          },
          "shapedefaults": {
           "line": {
            "color": "#2a3f5f"
           }
          },
          "ternary": {
           "aaxis": {
            "gridcolor": "white",
            "linecolor": "white",
            "ticks": ""
           },
           "baxis": {
            "gridcolor": "white",
            "linecolor": "white",
            "ticks": ""
           },
           "bgcolor": "#E5ECF6",
           "caxis": {
            "gridcolor": "white",
            "linecolor": "white",
            "ticks": ""
           }
          },
          "title": {
           "x": 0.05
          },
          "xaxis": {
           "automargin": true,
           "gridcolor": "white",
           "linecolor": "white",
           "ticks": "",
           "title": {
            "standoff": 15
           },
           "zerolinecolor": "white",
           "zerolinewidth": 2
          },
          "yaxis": {
           "automargin": true,
           "gridcolor": "white",
           "linecolor": "white",
           "ticks": "",
           "title": {
            "standoff": 15
           },
           "zerolinecolor": "white",
           "zerolinewidth": 2
          }
         }
        }
       }
      }
     },
     "metadata": {},
     "output_type": "display_data"
    },
    {
     "data": {
      "text/plain": [
       "<Figure size 360x360 with 0 Axes>"
      ]
     },
     "metadata": {},
     "output_type": "display_data"
    },
    {
     "data": {
      "image/png": "[encoded data removed]",
      "text/plain": [
       "<Figure size 720x432 with 1 Axes>"
      ]
     },
     "metadata": {
      "needs_background": "light"
     },
     "output_type": "display_data"
    },
    {
     "data": {
      "text/plain": [
       "(None, None)"
      ]
     },
     "execution_count": 5,
     "metadata": {},
     "output_type": "execute_result"
    }
   ],
   "source": [
    "# running quantum circuits\n",
    "WQPT1Q.WQPT_1Q_runner(res_theta, circuits=circ_u, device=simulator, shots=1024, inter=1, Ut=Up, combine = True)"
   ]
  }
 ],
 "metadata": {
  "kernelspec": {
   "display_name": "base",
   "language": "python",
   "name": "python3"
  },
  "language_info": {
   "codemirror_mode": {
    "name": "ipython",
    "version": 3
   },
   "file_extension": ".py",
   "mimetype": "text/x-python",
   "name": "python",
   "nbconvert_exporter": "python",
   "pygments_lexer": "ipython3",
   "version": "3.9.7"
  },
  "orig_nbformat": 4,
  "vscode": {
   "interpreter": {
    "hash": "e0e8feff63ce8d1a867429cf8efe914fc8cd1b30dcff3e86b0107311e76732f2"
   }
  }
 },
 "nbformat": 4,
 "nbformat_minor": 2
}
